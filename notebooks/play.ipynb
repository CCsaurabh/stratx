{
 "cells": [
  {
   "cell_type": "code",
   "execution_count": 810,
   "metadata": {},
   "outputs": [],
   "source": [
    "import pandas as pd\n",
    "import numpy as np\n",
    "import matplotlib.pyplot as plt\n",
    "import os\n",
    "from pandas.api.types import is_string_dtype, is_object_dtype, is_categorical_dtype, is_bool_dtype\n",
    "import numpy as np\n",
    "import pandas as pd\n",
    "\n",
    "import statsmodels.api as sm\n",
    "from scipy.stats import spearmanr\n",
    "from sklearn.decomposition import PCA\n",
    "\n",
    "import matplotlib.pyplot as plt\n",
    "\n",
    "from collections import OrderedDict\n",
    "\n",
    "from sklearn.linear_model import LinearRegression, Lasso, LogisticRegression\n",
    "from sklearn.ensemble import RandomForestRegressor\n",
    "from sklearn.ensemble import GradientBoostingRegressor\n",
    "from sklearn.utils import resample\n",
    "from sklearn.model_selection import train_test_split\n",
    "from timeit import default_timer as timer\n",
    "from sklearn.metrics import mean_absolute_error, mean_squared_error, r2_score\n",
    "from sklearn.model_selection import GridSearchCV\n",
    "from sklearn.datasets import load_boston\n",
    "from pandas.api.types import is_string_dtype, is_object_dtype, is_categorical_dtype, is_bool_dtype\n",
    "from sklearn.preprocessing import StandardScaler\n",
    "from sklearn.preprocessing import PolynomialFeatures\n",
    "from sklearn import linear_model\n"
   ]
  },
  {
   "cell_type": "code",
   "execution_count": null,
   "metadata": {},
   "outputs": [],
   "source": []
  },
  {
   "cell_type": "code",
   "execution_count": 63,
   "metadata": {},
   "outputs": [
    {
     "ename": "FileNotFoundError",
     "evalue": "[Errno 2] File b'/tmp/t.csv' does not exist: b'/tmp/t.csv'",
     "output_type": "error",
     "traceback": [
      "\u001b[0;31m---------------------------------------------------------------------------\u001b[0m",
      "\u001b[0;31mFileNotFoundError\u001b[0m                         Traceback (most recent call last)",
      "\u001b[0;32m<ipython-input-63-7d3ecea3b778>\u001b[0m in \u001b[0;36m<module>\u001b[0;34m\u001b[0m\n\u001b[0;32m----> 1\u001b[0;31m \u001b[0mdf\u001b[0m \u001b[0;34m=\u001b[0m \u001b[0mpd\u001b[0m\u001b[0;34m.\u001b[0m\u001b[0mread_csv\u001b[0m\u001b[0;34m(\u001b[0m\u001b[0;34m\"/tmp/t.csv\"\u001b[0m\u001b[0;34m)\u001b[0m\u001b[0;34m\u001b[0m\u001b[0;34m\u001b[0m\u001b[0m\n\u001b[0m\u001b[1;32m      2\u001b[0m \u001b[0mdf\u001b[0m\u001b[0;34m.\u001b[0m\u001b[0msort_values\u001b[0m\u001b[0;34m(\u001b[0m\u001b[0;34m'Importance'\u001b[0m\u001b[0;34m,\u001b[0m \u001b[0mascending\u001b[0m\u001b[0;34m=\u001b[0m\u001b[0;32mFalse\u001b[0m\u001b[0;34m)\u001b[0m\u001b[0;34m\u001b[0m\u001b[0;34m\u001b[0m\u001b[0m\n",
      "\u001b[0;32m~/opt/anaconda3/lib/python3.7/site-packages/pandas/io/parsers.py\u001b[0m in \u001b[0;36mparser_f\u001b[0;34m(filepath_or_buffer, sep, delimiter, header, names, index_col, usecols, squeeze, prefix, mangle_dupe_cols, dtype, engine, converters, true_values, false_values, skipinitialspace, skiprows, skipfooter, nrows, na_values, keep_default_na, na_filter, verbose, skip_blank_lines, parse_dates, infer_datetime_format, keep_date_col, date_parser, dayfirst, cache_dates, iterator, chunksize, compression, thousands, decimal, lineterminator, quotechar, quoting, doublequote, escapechar, comment, encoding, dialect, error_bad_lines, warn_bad_lines, delim_whitespace, low_memory, memory_map, float_precision)\u001b[0m\n\u001b[1;32m    683\u001b[0m         )\n\u001b[1;32m    684\u001b[0m \u001b[0;34m\u001b[0m\u001b[0m\n\u001b[0;32m--> 685\u001b[0;31m         \u001b[0;32mreturn\u001b[0m \u001b[0m_read\u001b[0m\u001b[0;34m(\u001b[0m\u001b[0mfilepath_or_buffer\u001b[0m\u001b[0;34m,\u001b[0m \u001b[0mkwds\u001b[0m\u001b[0;34m)\u001b[0m\u001b[0;34m\u001b[0m\u001b[0;34m\u001b[0m\u001b[0m\n\u001b[0m\u001b[1;32m    686\u001b[0m \u001b[0;34m\u001b[0m\u001b[0m\n\u001b[1;32m    687\u001b[0m     \u001b[0mparser_f\u001b[0m\u001b[0;34m.\u001b[0m\u001b[0m__name__\u001b[0m \u001b[0;34m=\u001b[0m \u001b[0mname\u001b[0m\u001b[0;34m\u001b[0m\u001b[0;34m\u001b[0m\u001b[0m\n",
      "\u001b[0;32m~/opt/anaconda3/lib/python3.7/site-packages/pandas/io/parsers.py\u001b[0m in \u001b[0;36m_read\u001b[0;34m(filepath_or_buffer, kwds)\u001b[0m\n\u001b[1;32m    455\u001b[0m \u001b[0;34m\u001b[0m\u001b[0m\n\u001b[1;32m    456\u001b[0m     \u001b[0;31m# Create the parser.\u001b[0m\u001b[0;34m\u001b[0m\u001b[0;34m\u001b[0m\u001b[0;34m\u001b[0m\u001b[0m\n\u001b[0;32m--> 457\u001b[0;31m     \u001b[0mparser\u001b[0m \u001b[0;34m=\u001b[0m \u001b[0mTextFileReader\u001b[0m\u001b[0;34m(\u001b[0m\u001b[0mfp_or_buf\u001b[0m\u001b[0;34m,\u001b[0m \u001b[0;34m**\u001b[0m\u001b[0mkwds\u001b[0m\u001b[0;34m)\u001b[0m\u001b[0;34m\u001b[0m\u001b[0;34m\u001b[0m\u001b[0m\n\u001b[0m\u001b[1;32m    458\u001b[0m \u001b[0;34m\u001b[0m\u001b[0m\n\u001b[1;32m    459\u001b[0m     \u001b[0;32mif\u001b[0m \u001b[0mchunksize\u001b[0m \u001b[0;32mor\u001b[0m \u001b[0miterator\u001b[0m\u001b[0;34m:\u001b[0m\u001b[0;34m\u001b[0m\u001b[0;34m\u001b[0m\u001b[0m\n",
      "\u001b[0;32m~/opt/anaconda3/lib/python3.7/site-packages/pandas/io/parsers.py\u001b[0m in \u001b[0;36m__init__\u001b[0;34m(self, f, engine, **kwds)\u001b[0m\n\u001b[1;32m    893\u001b[0m             \u001b[0mself\u001b[0m\u001b[0;34m.\u001b[0m\u001b[0moptions\u001b[0m\u001b[0;34m[\u001b[0m\u001b[0;34m\"has_index_names\"\u001b[0m\u001b[0;34m]\u001b[0m \u001b[0;34m=\u001b[0m \u001b[0mkwds\u001b[0m\u001b[0;34m[\u001b[0m\u001b[0;34m\"has_index_names\"\u001b[0m\u001b[0;34m]\u001b[0m\u001b[0;34m\u001b[0m\u001b[0;34m\u001b[0m\u001b[0m\n\u001b[1;32m    894\u001b[0m \u001b[0;34m\u001b[0m\u001b[0m\n\u001b[0;32m--> 895\u001b[0;31m         \u001b[0mself\u001b[0m\u001b[0;34m.\u001b[0m\u001b[0m_make_engine\u001b[0m\u001b[0;34m(\u001b[0m\u001b[0mself\u001b[0m\u001b[0;34m.\u001b[0m\u001b[0mengine\u001b[0m\u001b[0;34m)\u001b[0m\u001b[0;34m\u001b[0m\u001b[0;34m\u001b[0m\u001b[0m\n\u001b[0m\u001b[1;32m    896\u001b[0m \u001b[0;34m\u001b[0m\u001b[0m\n\u001b[1;32m    897\u001b[0m     \u001b[0;32mdef\u001b[0m \u001b[0mclose\u001b[0m\u001b[0;34m(\u001b[0m\u001b[0mself\u001b[0m\u001b[0;34m)\u001b[0m\u001b[0;34m:\u001b[0m\u001b[0;34m\u001b[0m\u001b[0;34m\u001b[0m\u001b[0m\n",
      "\u001b[0;32m~/opt/anaconda3/lib/python3.7/site-packages/pandas/io/parsers.py\u001b[0m in \u001b[0;36m_make_engine\u001b[0;34m(self, engine)\u001b[0m\n\u001b[1;32m   1133\u001b[0m     \u001b[0;32mdef\u001b[0m \u001b[0m_make_engine\u001b[0m\u001b[0;34m(\u001b[0m\u001b[0mself\u001b[0m\u001b[0;34m,\u001b[0m \u001b[0mengine\u001b[0m\u001b[0;34m=\u001b[0m\u001b[0;34m\"c\"\u001b[0m\u001b[0;34m)\u001b[0m\u001b[0;34m:\u001b[0m\u001b[0;34m\u001b[0m\u001b[0;34m\u001b[0m\u001b[0m\n\u001b[1;32m   1134\u001b[0m         \u001b[0;32mif\u001b[0m \u001b[0mengine\u001b[0m \u001b[0;34m==\u001b[0m \u001b[0;34m\"c\"\u001b[0m\u001b[0;34m:\u001b[0m\u001b[0;34m\u001b[0m\u001b[0;34m\u001b[0m\u001b[0m\n\u001b[0;32m-> 1135\u001b[0;31m             \u001b[0mself\u001b[0m\u001b[0;34m.\u001b[0m\u001b[0m_engine\u001b[0m \u001b[0;34m=\u001b[0m \u001b[0mCParserWrapper\u001b[0m\u001b[0;34m(\u001b[0m\u001b[0mself\u001b[0m\u001b[0;34m.\u001b[0m\u001b[0mf\u001b[0m\u001b[0;34m,\u001b[0m \u001b[0;34m**\u001b[0m\u001b[0mself\u001b[0m\u001b[0;34m.\u001b[0m\u001b[0moptions\u001b[0m\u001b[0;34m)\u001b[0m\u001b[0;34m\u001b[0m\u001b[0;34m\u001b[0m\u001b[0m\n\u001b[0m\u001b[1;32m   1136\u001b[0m         \u001b[0;32melse\u001b[0m\u001b[0;34m:\u001b[0m\u001b[0;34m\u001b[0m\u001b[0;34m\u001b[0m\u001b[0m\n\u001b[1;32m   1137\u001b[0m             \u001b[0;32mif\u001b[0m \u001b[0mengine\u001b[0m \u001b[0;34m==\u001b[0m \u001b[0;34m\"python\"\u001b[0m\u001b[0;34m:\u001b[0m\u001b[0;34m\u001b[0m\u001b[0;34m\u001b[0m\u001b[0m\n",
      "\u001b[0;32m~/opt/anaconda3/lib/python3.7/site-packages/pandas/io/parsers.py\u001b[0m in \u001b[0;36m__init__\u001b[0;34m(self, src, **kwds)\u001b[0m\n\u001b[1;32m   1915\u001b[0m         \u001b[0mkwds\u001b[0m\u001b[0;34m[\u001b[0m\u001b[0;34m\"usecols\"\u001b[0m\u001b[0;34m]\u001b[0m \u001b[0;34m=\u001b[0m \u001b[0mself\u001b[0m\u001b[0;34m.\u001b[0m\u001b[0musecols\u001b[0m\u001b[0;34m\u001b[0m\u001b[0;34m\u001b[0m\u001b[0m\n\u001b[1;32m   1916\u001b[0m \u001b[0;34m\u001b[0m\u001b[0m\n\u001b[0;32m-> 1917\u001b[0;31m         \u001b[0mself\u001b[0m\u001b[0;34m.\u001b[0m\u001b[0m_reader\u001b[0m \u001b[0;34m=\u001b[0m \u001b[0mparsers\u001b[0m\u001b[0;34m.\u001b[0m\u001b[0mTextReader\u001b[0m\u001b[0;34m(\u001b[0m\u001b[0msrc\u001b[0m\u001b[0;34m,\u001b[0m \u001b[0;34m**\u001b[0m\u001b[0mkwds\u001b[0m\u001b[0;34m)\u001b[0m\u001b[0;34m\u001b[0m\u001b[0;34m\u001b[0m\u001b[0m\n\u001b[0m\u001b[1;32m   1918\u001b[0m         \u001b[0mself\u001b[0m\u001b[0;34m.\u001b[0m\u001b[0munnamed_cols\u001b[0m \u001b[0;34m=\u001b[0m \u001b[0mself\u001b[0m\u001b[0;34m.\u001b[0m\u001b[0m_reader\u001b[0m\u001b[0;34m.\u001b[0m\u001b[0munnamed_cols\u001b[0m\u001b[0;34m\u001b[0m\u001b[0;34m\u001b[0m\u001b[0m\n\u001b[1;32m   1919\u001b[0m \u001b[0;34m\u001b[0m\u001b[0m\n",
      "\u001b[0;32mpandas/_libs/parsers.pyx\u001b[0m in \u001b[0;36mpandas._libs.parsers.TextReader.__cinit__\u001b[0;34m()\u001b[0m\n",
      "\u001b[0;32mpandas/_libs/parsers.pyx\u001b[0m in \u001b[0;36mpandas._libs.parsers.TextReader._setup_parser_source\u001b[0;34m()\u001b[0m\n",
      "\u001b[0;31mFileNotFoundError\u001b[0m: [Errno 2] File b'/tmp/t.csv' does not exist: b'/tmp/t.csv'"
     ]
    }
   ],
   "source": [
    "df = pd.read_csv(\"/tmp/t.csv\")\n",
    "df.sort_values('Importance', ascending=False)"
   ]
  },
  {
   "cell_type": "code",
   "execution_count": 149,
   "metadata": {},
   "outputs": [
    {
     "data": {
      "text/html": [
       "<div>\n",
       "<style scoped>\n",
       "    .dataframe tbody tr th:only-of-type {\n",
       "        vertical-align: middle;\n",
       "    }\n",
       "\n",
       "    .dataframe tbody tr th {\n",
       "        vertical-align: top;\n",
       "    }\n",
       "\n",
       "    .dataframe thead th {\n",
       "        text-align: right;\n",
       "    }\n",
       "</style>\n",
       "<table border=\"1\" class=\"dataframe\">\n",
       "  <thead>\n",
       "    <tr style=\"text-align: right;\">\n",
       "      <th></th>\n",
       "      <th>Feature</th>\n",
       "      <th>Rank</th>\n",
       "      <th>Importance</th>\n",
       "      <th>Sigma</th>\n",
       "      <th>clipped</th>\n",
       "    </tr>\n",
       "  </thead>\n",
       "  <tbody>\n",
       "    <tr>\n",
       "      <td>2</td>\n",
       "      <td>ModelID</td>\n",
       "      <td>10.013405</td>\n",
       "      <td>0.165620</td>\n",
       "      <td>0.016540</td>\n",
       "      <td>0.016540</td>\n",
       "    </tr>\n",
       "    <tr>\n",
       "      <td>6</td>\n",
       "      <td>ProductSize</td>\n",
       "      <td>9.710048</td>\n",
       "      <td>0.078312</td>\n",
       "      <td>0.008065</td>\n",
       "      <td>0.008065</td>\n",
       "    </tr>\n",
       "    <tr>\n",
       "      <td>1</td>\n",
       "      <td>YearMade</td>\n",
       "      <td>3.968520</td>\n",
       "      <td>0.304781</td>\n",
       "      <td>0.076800</td>\n",
       "      <td>0.076800</td>\n",
       "    </tr>\n",
       "    <tr>\n",
       "      <td>8</td>\n",
       "      <td>saledayofweek</td>\n",
       "      <td>3.431516</td>\n",
       "      <td>0.025268</td>\n",
       "      <td>0.007364</td>\n",
       "      <td>0.007364</td>\n",
       "    </tr>\n",
       "    <tr>\n",
       "      <td>9</td>\n",
       "      <td>salemonth</td>\n",
       "      <td>1.988941</td>\n",
       "      <td>0.015781</td>\n",
       "      <td>0.007935</td>\n",
       "      <td>0.007935</td>\n",
       "    </tr>\n",
       "    <tr>\n",
       "      <td>0</td>\n",
       "      <td>age</td>\n",
       "      <td>1.812289</td>\n",
       "      <td>0.194837</td>\n",
       "      <td>0.107509</td>\n",
       "      <td>0.107509</td>\n",
       "    </tr>\n",
       "    <tr>\n",
       "      <td>5</td>\n",
       "      <td>saledayofyear</td>\n",
       "      <td>1.736897</td>\n",
       "      <td>0.044144</td>\n",
       "      <td>0.025415</td>\n",
       "      <td>0.025415</td>\n",
       "    </tr>\n",
       "    <tr>\n",
       "      <td>4</td>\n",
       "      <td>auctioneerID</td>\n",
       "      <td>1.571823</td>\n",
       "      <td>0.042153</td>\n",
       "      <td>0.026818</td>\n",
       "      <td>0.026818</td>\n",
       "    </tr>\n",
       "    <tr>\n",
       "      <td>10</td>\n",
       "      <td>saleday</td>\n",
       "      <td>1.361876</td>\n",
       "      <td>0.010579</td>\n",
       "      <td>0.007768</td>\n",
       "      <td>0.007768</td>\n",
       "    </tr>\n",
       "    <tr>\n",
       "      <td>3</td>\n",
       "      <td>MachineHours</td>\n",
       "      <td>1.304369</td>\n",
       "      <td>0.051107</td>\n",
       "      <td>0.039181</td>\n",
       "      <td>0.039181</td>\n",
       "    </tr>\n",
       "    <tr>\n",
       "      <td>7</td>\n",
       "      <td>AC</td>\n",
       "      <td>0.052754</td>\n",
       "      <td>0.052754</td>\n",
       "      <td>0.006302</td>\n",
       "      <td>1.000000</td>\n",
       "    </tr>\n",
       "    <tr>\n",
       "      <td>11</td>\n",
       "      <td>datasource</td>\n",
       "      <td>0.014664</td>\n",
       "      <td>0.014664</td>\n",
       "      <td>0.005071</td>\n",
       "      <td>1.000000</td>\n",
       "    </tr>\n",
       "    <tr>\n",
       "      <td>12</td>\n",
       "      <td>YearMade_na</td>\n",
       "      <td>0.000000</td>\n",
       "      <td>0.000000</td>\n",
       "      <td>0.000000</td>\n",
       "      <td>1.000000</td>\n",
       "    </tr>\n",
       "    <tr>\n",
       "      <td>13</td>\n",
       "      <td>MachineHours_na</td>\n",
       "      <td>0.000000</td>\n",
       "      <td>0.000000</td>\n",
       "      <td>0.000000</td>\n",
       "      <td>1.000000</td>\n",
       "    </tr>\n",
       "    <tr>\n",
       "      <td>14</td>\n",
       "      <td>saleyear</td>\n",
       "      <td>0.000000</td>\n",
       "      <td>0.000000</td>\n",
       "      <td>0.000000</td>\n",
       "      <td>1.000000</td>\n",
       "    </tr>\n",
       "  </tbody>\n",
       "</table>\n",
       "</div>"
      ],
      "text/plain": [
       "            Feature       Rank  Importance     Sigma   clipped\n",
       "2           ModelID  10.013405    0.165620  0.016540  0.016540\n",
       "6       ProductSize   9.710048    0.078312  0.008065  0.008065\n",
       "1          YearMade   3.968520    0.304781  0.076800  0.076800\n",
       "8     saledayofweek   3.431516    0.025268  0.007364  0.007364\n",
       "9         salemonth   1.988941    0.015781  0.007935  0.007935\n",
       "0               age   1.812289    0.194837  0.107509  0.107509\n",
       "5     saledayofyear   1.736897    0.044144  0.025415  0.025415\n",
       "4      auctioneerID   1.571823    0.042153  0.026818  0.026818\n",
       "10          saleday   1.361876    0.010579  0.007768  0.007768\n",
       "3      MachineHours   1.304369    0.051107  0.039181  0.039181\n",
       "7                AC   0.052754    0.052754  0.006302  1.000000\n",
       "11       datasource   0.014664    0.014664  0.005071  1.000000\n",
       "12      YearMade_na   0.000000    0.000000  0.000000  1.000000\n",
       "13  MachineHours_na   0.000000    0.000000  0.000000  1.000000\n",
       "14         saleyear   0.000000    0.000000  0.000000  1.000000"
      ]
     },
     "execution_count": 149,
     "metadata": {},
     "output_type": "execute_result"
    }
   ],
   "source": [
    "R = df.copy()\n",
    "R['clipped'] = np.where(R['Sigma']<0.007, 1, R['Sigma'])\n",
    "R['Rank'] = R['Importance'] / R['clipped']\n",
    "R.sort_values('Rank',ascending=False)"
   ]
  },
  {
   "cell_type": "code",
   "execution_count": 146,
   "metadata": {},
   "outputs": [
    {
     "data": {
      "text/plain": [
       "(0.022317773175551302, 0.02996326640295244)"
      ]
     },
     "execution_count": 146,
     "metadata": {},
     "output_type": "execute_result"
    }
   ],
   "source": [
    "np.mean(df['Sigma']), np.std(df['Sigma'])"
   ]
  },
  {
   "cell_type": "code",
   "execution_count": 191,
   "metadata": {},
   "outputs": [
    {
     "data": {
      "text/plain": [
       "array([[ 0., nan,  6.],\n",
       "       [ 4.,  0.,  0.],\n",
       "       [ 2.,  3.,  8.],\n",
       "       [nan,  5., nan]])"
      ]
     },
     "execution_count": 191,
     "metadata": {},
     "output_type": "execute_result"
    }
   ],
   "source": [
    "h = np.array([[0,4,2,np.nan],\n",
    "              [np.nan,0,3,5],\n",
    "              [6,0,8,np.nan]])\n",
    "h = h.T\n",
    "h"
   ]
  },
  {
   "cell_type": "code",
   "execution_count": null,
   "metadata": {},
   "outputs": [],
   "source": [
    "h = np.array([[1,0,np.nan,np.nan],\n",
    "              [0,4,2,np.nan],\n",
    "              [np.nan,0,3,5],\n",
    "              [6,0,8,np.nan],\n",
    "              [1,np.nan,np.nan,0]])\n",
    "h = h.T\n",
    "h\n",
    "\n",
    "r = np.array([1,0,1,1,3]) # relative to this row"
   ]
  },
  {
   "cell_type": "code",
   "execution_count": 239,
   "metadata": {},
   "outputs": [
    {
     "data": {
      "text/plain": [
       "array([[ 1., nan,  6.],\n",
       "       [ 0.,  0.,  0.],\n",
       "       [nan,  3.,  8.],\n",
       "       [nan,  5., nan]])"
      ]
     },
     "execution_count": 239,
     "metadata": {},
     "output_type": "execute_result"
    }
   ],
   "source": [
    "h[:,np.where(r==1)[0]] # columns relative to 1"
   ]
  },
  {
   "cell_type": "code",
   "execution_count": 240,
   "metadata": {},
   "outputs": [
    {
     "data": {
      "text/plain": [
       "array([ 7.,  0., 11.,  5.])"
      ]
     },
     "execution_count": 240,
     "metadata": {},
     "output_type": "execute_result"
    }
   ],
   "source": [
    "s = np.nansum(h[:,np.where(r==1)[0]], axis=1)\n",
    "s"
   ]
  },
  {
   "cell_type": "code",
   "execution_count": 241,
   "metadata": {},
   "outputs": [
    {
     "data": {
      "text/plain": [
       "array([[1, 0, 1],\n",
       "       [1, 1, 1],\n",
       "       [0, 1, 1],\n",
       "       [0, 1, 0]])"
      ]
     },
     "execution_count": 241,
     "metadata": {},
     "output_type": "execute_result"
    }
   ],
   "source": [
    "c = (~np.isnan(h[:,np.where(r==1)[0]])).astype(int)\n",
    "c"
   ]
  },
  {
   "cell_type": "code",
   "execution_count": 242,
   "metadata": {},
   "outputs": [
    {
     "data": {
      "text/plain": [
       "array([2, 0, 2, 1])"
      ]
     },
     "execution_count": 242,
     "metadata": {},
     "output_type": "execute_result"
    }
   ],
   "source": [
    "c = np.sum(c, axis=1) # can ignore element at current relative pos==1\n",
    "c[1] = 0\n",
    "c"
   ]
  },
  {
   "cell_type": "code",
   "execution_count": 243,
   "metadata": {},
   "outputs": [
    {
     "name": "stderr",
     "output_type": "stream",
     "text": [
      "/Users/parrt/opt/anaconda3/lib/python3.7/site-packages/ipykernel_launcher.py:1: RuntimeWarning: invalid value encountered in true_divide\n",
      "  \"\"\"Entry point for launching an IPython kernel.\n"
     ]
    },
    {
     "data": {
      "text/plain": [
       "array([3.5, nan, 5.5, 5. ])"
      ]
     },
     "execution_count": 243,
     "metadata": {},
     "output_type": "execute_result"
    }
   ],
   "source": [
    "s/c"
   ]
  },
  {
   "cell_type": "code",
   "execution_count": 424,
   "metadata": {},
   "outputs": [
    {
     "name": "stdout",
     "output_type": "stream",
     "text": [
      "cat 0 relative to 3885.0 for [[ 0.]\n",
      " [ 4.]\n",
      " [ 2.]\n",
      " [nan]]\n",
      "count [0 1 1 0]\n",
      "sum [0. 4. 2. 0.]\n",
      "cat 1 relative to 974.0 for [[ 1. nan  6.]\n",
      " [ 0.  0.  0.]\n",
      " [nan  3.  8.]\n",
      " [nan  5. nan]]\n",
      "count [2 0 2 1]\n",
      "sum [ 7.  0. 11.  5.]\n",
      "cat 3 relative to 1222.0 for [[ 1.]\n",
      " [nan]\n",
      " [nan]\n",
      " [ 0.]]\n",
      "count [1 0 0 0]\n",
      "sum [1. 0. 0. 0.]\n",
      "\n",
      "sums\n",
      " [[ 0.  7.  1.]\n",
      " [ 4.  0.  0.]\n",
      " [ 2. 11.  0.]\n",
      " [ 0.  5.  0.]]\n",
      "counts\n",
      " [[0 2 1]\n",
      " [1 0 0]\n",
      " [1 2 0]\n",
      " [0 1 0]]\n",
      "uniq r= [0 1 3]\n"
     ]
    },
    {
     "name": "stderr",
     "output_type": "stream",
     "text": [
      "/Users/parrt/opt/anaconda3/lib/python3.7/site-packages/ipykernel_launcher.py:11: RuntimeWarning: invalid value encountered in greater\n",
      "  # This is added back by InteractiveShellApp.init_path()\n"
     ]
    }
   ],
   "source": [
    "ncats=h.shape[0]\n",
    "nleaves=h.shape[1]\n",
    "catcodes=[0,1,2,3]\n",
    "sums = []\n",
    "counts = []\n",
    "# result = np.zeros(shape=(ncats,))\n",
    "for i in sorted(np.unique(r)):\n",
    "    print(\"cat\",i,\"relative to\", result[i], \"for\", h[:,np.where(r==i)[0]])\n",
    "    s = np.nansum(h[:,np.where(r==i)[0]], axis=1)\n",
    "    s[i] = 0.0\n",
    "    c = (h[:,np.where(r==i)[0]]>0).astype(int)\n",
    "    c = np.sum(c, axis=1) # can ignore element at current relative pos==i\n",
    "    counts.append(c)\n",
    "    sums.append(s)\n",
    "    print(\"count\",c)\n",
    "    print(\"sum\",s)\n",
    "#     print(\"avg\",s/c)\n",
    "    result += s\n",
    "print()\n",
    "print(\"sums\\n\", np.array(sums).T)\n",
    "print(\"counts\\n\",np.array(counts).T)\n",
    "print(\"uniq r=\",np.unique(r))"
   ]
  },
  {
   "cell_type": "code",
   "execution_count": 425,
   "metadata": {},
   "outputs": [
    {
     "name": "stderr",
     "output_type": "stream",
     "text": [
      "/Users/parrt/opt/anaconda3/lib/python3.7/site-packages/ipykernel_launcher.py:1: RuntimeWarning: invalid value encountered in true_divide\n",
      "  \"\"\"Entry point for launching an IPython kernel.\n"
     ]
    },
    {
     "data": {
      "text/plain": [
       "array([[nan, 3.5, 1. ],\n",
       "       [4. , nan, nan],\n",
       "       [2. , 5.5, nan],\n",
       "       [nan, 5. , nan]])"
      ]
     },
     "execution_count": 425,
     "metadata": {},
     "output_type": "execute_result"
    }
   ],
   "source": [
    "a = (np.array(sums)/np.array(counts)).T\n",
    "#a[np.isnan(a)] = 0\n",
    "a"
   ]
  },
  {
   "cell_type": "code",
   "execution_count": 426,
   "metadata": {},
   "outputs": [
    {
     "data": {
      "text/plain": [
       "array([nan,  4.,  2., nan])"
      ]
     },
     "execution_count": 426,
     "metadata": {},
     "output_type": "execute_result"
    }
   ],
   "source": [
    "uniq_r = sorted(np.unique(r))\n",
    "x = a[:,0] # init with first col\n",
    "x"
   ]
  },
  {
   "cell_type": "code",
   "execution_count": 419,
   "metadata": {},
   "outputs": [
    {
     "data": {
      "text/plain": [
       "array([7.5, nan, 9.5, 9. ])"
      ]
     },
     "execution_count": 419,
     "metadata": {},
     "output_type": "execute_result"
    }
   ],
   "source": [
    "adjusted_vec = x[uniq_r[1]] + a[:,1]\n",
    "#adjusted_vec[uniq_r[1]] = 0\n",
    "adjusted_vec"
   ]
  },
  {
   "cell_type": "code",
   "execution_count": 420,
   "metadata": {},
   "outputs": [
    {
     "data": {
      "text/plain": [
       "array([ 7.5,  4. , 11.5,  9. ])"
      ]
     },
     "execution_count": 420,
     "metadata": {},
     "output_type": "execute_result"
    }
   ],
   "source": [
    "x = np.where(np.isnan(x), 0, x) + np.where(np.isnan(adjusted_vec), 0, adjusted_vec)\n",
    "x"
   ]
  },
  {
   "cell_type": "code",
   "execution_count": 421,
   "metadata": {},
   "outputs": [
    {
     "data": {
      "text/plain": [
       "array([10., nan, nan, nan])"
      ]
     },
     "execution_count": 421,
     "metadata": {},
     "output_type": "execute_result"
    }
   ],
   "source": [
    "adjusted_vec = x[uniq_r[2]] + a[:,2]\n",
    "#adjusted_vec[uniq_r[2]] = 0\n",
    "adjusted_vec"
   ]
  },
  {
   "cell_type": "code",
   "execution_count": 422,
   "metadata": {},
   "outputs": [
    {
     "data": {
      "text/plain": [
       "array([17.5,  4. , 11.5,  9. ])"
      ]
     },
     "execution_count": 422,
     "metadata": {},
     "output_type": "execute_result"
    }
   ],
   "source": [
    "x = np.where(np.isnan(x), 0, x) + np.where(np.isnan(adjusted_vec), 0, adjusted_vec)\n",
    "x"
   ]
  },
  {
   "cell_type": "code",
   "execution_count": 432,
   "metadata": {},
   "outputs": [
    {
     "name": "stdout",
     "output_type": "stream",
     "text": [
      "0 : [nan  4.  2. nan]\n",
      "1 : [7.5 nan 9.5 9. ] x = [ 7.5  4.  11.5  9. ]\n",
      "3 : [10. nan nan nan] x = [17.5  4.  11.5  9. ]\n"
     ]
    },
    {
     "name": "stderr",
     "output_type": "stream",
     "text": [
      "/Users/parrt/opt/anaconda3/lib/python3.7/site-packages/ipykernel_launcher.py:1: RuntimeWarning: invalid value encountered in true_divide\n",
      "  \"\"\"Entry point for launching an IPython kernel.\n"
     ]
    },
    {
     "data": {
      "text/plain": [
       "array([17.5,  4. , 11.5,  9. ])"
      ]
     },
     "execution_count": 432,
     "metadata": {},
     "output_type": "execute_result"
    }
   ],
   "source": [
    "a = (np.array(sums)/np.array(counts)).T\n",
    "uniq_r = sorted(np.unique(r))\n",
    "x = a[:,uniq_r[0]] # init with first col\n",
    "print(uniq_r[0],\":\",x)\n",
    "for i in range(1,len(uniq_r)):\n",
    "    adjusted_vec = x[uniq_r[i]] + a[:,i]\n",
    "    x = np.where(np.isnan(x), 0, x) + np.where(np.isnan(adjusted_vec), 0, adjusted_vec)\n",
    "    print(uniq_r[i],\":\",adjusted_vec,\"x =\",x)\n",
    "x"
   ]
  },
  {
   "cell_type": "code",
   "execution_count": 452,
   "metadata": {},
   "outputs": [],
   "source": [
    "def avg_values_at_cat(leaf_histos, min_cats):\n",
    "    sums = []\n",
    "    counts = []\n",
    "    # result = np.zeros(shape=(ncats,))\n",
    "    for i in sorted(np.unique(min_cats)):\n",
    "        s = np.nansum(leaf_histos[:, np.where(min_cats == i)[0]], axis=1)\n",
    "#        s[i] = 0.0\n",
    "        c = (leaf_histos[:, np.where(min_cats == i)[0]] > 0).astype(int)\n",
    "        c = np.sum(c, axis=1)  # can ignore element at current relative pos==i\n",
    "        counts.append(c)\n",
    "        sums.append(s)\n",
    "        # print(\"count\", c)\n",
    "        # print(\"sum\", s)\n",
    "        #     print(\"avg\",s/c)\n",
    "    print()\n",
    "    print(\"list sums\",sums)\n",
    "    print(\"list counts\", counts)\n",
    "    print(\"sums\\n\", np.array(sums).T)\n",
    "    print(\"counts\\n\", np.array(counts).T)\n",
    "    print(\"uniq r=\", np.unique(min_cats))\n",
    "    uniq_min_cats = sorted(np.unique(min_cats))\n",
    "#    a = (np.array(sums)/np.array(counts)).T\n",
    "    a = [sums[i]/counts[i] for i in range(len(uniq_min_cats))]\n",
    "    x = a[uniq_min_cats[0]] # init with first col\n",
    "    print(uniq_min_cats[0],\":\",x)\n",
    "    for i in range(1,len(uniq_min_cats)):\n",
    "        adjusted_vec = x[uniq_min_cats[i]] + a[i]\n",
    "        x = np.where(np.isnan(x), 0, x) + np.where(np.isnan(adjusted_vec), 0, adjusted_vec)\n",
    "        print(uniq_min_cats[i],\":\",adjusted_vec,\"x =\",x)\n",
    "    print(x)\n",
    "    return x"
   ]
  },
  {
   "cell_type": "code",
   "execution_count": 453,
   "metadata": {},
   "outputs": [
    {
     "name": "stdout",
     "output_type": "stream",
     "text": [
      "[[ 1.  0. nan  6.  1.]\n",
      " [ 0.  4.  0.  0. nan]\n",
      " [nan  2.  3.  8. nan]\n",
      " [nan nan  5. nan  0.]]\n",
      "\n",
      "list sums [array([0., 4., 2., 0.]), array([ 7.,  0., 11.,  5.]), array([1., 0., 0., 0.])]\n",
      "list counts [array([0, 1, 1, 0]), array([2, 0, 2, 1]), array([1, 0, 0, 0])]\n",
      "sums\n",
      " [[ 0.  7.  1.]\n",
      " [ 4.  0.  0.]\n",
      " [ 2. 11.  0.]\n",
      " [ 0.  5.  0.]]\n",
      "counts\n",
      " [[0 2 1]\n",
      " [1 0 0]\n",
      " [1 2 0]\n",
      " [0 1 0]]\n",
      "uniq r= [0 1 3]\n",
      "0 : [nan  4.  2. nan]\n",
      "1 : [7.5 nan 9.5 9. ] x = [ 7.5  4.  11.5  9. ]\n",
      "3 : [10. nan nan nan] x = [17.5  4.  11.5  9. ]\n",
      "[17.5  4.  11.5  9. ]\n"
     ]
    },
    {
     "name": "stderr",
     "output_type": "stream",
     "text": [
      "/Users/parrt/opt/anaconda3/lib/python3.7/site-packages/ipykernel_launcher.py:8: RuntimeWarning: invalid value encountered in greater\n",
      "  \n",
      "/Users/parrt/opt/anaconda3/lib/python3.7/site-packages/ipykernel_launcher.py:23: RuntimeWarning: invalid value encountered in true_divide\n"
     ]
    },
    {
     "data": {
      "text/plain": [
       "array([17.5,  4. , 11.5,  9. ])"
      ]
     },
     "execution_count": 453,
     "metadata": {},
     "output_type": "execute_result"
    }
   ],
   "source": [
    "leaf_histos = np.array([[1,0,np.nan,np.nan],\n",
    "                      [0,4,2,np.nan],\n",
    "                      [np.nan,0,3,5],\n",
    "                      [6,0,8,np.nan],\n",
    "                      [1,np.nan,np.nan,0]])\n",
    "leaf_histos = leaf_histos.T\n",
    "print(leaf_histos)\n",
    "\n",
    "min_cats = np.array([1,0,1,1,3]) # relative to this row\n",
    "avg_values_at_cat(leaf_histos, min_cats)"
   ]
  },
  {
   "cell_type": "code",
   "execution_count": 511,
   "metadata": {},
   "outputs": [],
   "source": [
    "a = np.array([3,3,3,2,3,4,4,8,1,2,1,1,1,3,2,2,2,2])\n",
    "a *= 10"
   ]
  },
  {
   "cell_type": "code",
   "execution_count": 512,
   "metadata": {},
   "outputs": [],
   "source": [
    "uniq, counts = np.unique(a, return_counts=True)"
   ]
  },
  {
   "cell_type": "code",
   "execution_count": 513,
   "metadata": {},
   "outputs": [
    {
     "data": {
      "text/plain": [
       "array([10, 20, 30, 40, 80])"
      ]
     },
     "execution_count": 513,
     "metadata": {},
     "output_type": "execute_result"
    }
   ],
   "source": [
    "uniq"
   ]
  },
  {
   "cell_type": "code",
   "execution_count": 514,
   "metadata": {},
   "outputs": [
    {
     "data": {
      "text/plain": [
       "array([4, 6, 5, 2, 1])"
      ]
     },
     "execution_count": 514,
     "metadata": {},
     "output_type": "execute_result"
    }
   ],
   "source": [
    "counts"
   ]
  },
  {
   "cell_type": "code",
   "execution_count": 515,
   "metadata": {},
   "outputs": [
    {
     "data": {
      "text/plain": [
       "array([1, 2, 0, 3, 4])"
      ]
     },
     "execution_count": 515,
     "metadata": {},
     "output_type": "execute_result"
    }
   ],
   "source": [
    "revsort_idx = np.argsort(counts)[::-1]\n",
    "revsort_idx"
   ]
  },
  {
   "cell_type": "code",
   "execution_count": 528,
   "metadata": {},
   "outputs": [
    {
     "data": {
      "text/plain": [
       "[20, 30, 10, 40, 80]"
      ]
     },
     "execution_count": 528,
     "metadata": {},
     "output_type": "execute_result"
    }
   ],
   "source": [
    "cats_by_most_common = list(uniq[revsort_idx])\n",
    "cats_by_most_common"
   ]
  },
  {
   "cell_type": "code",
   "execution_count": 531,
   "metadata": {},
   "outputs": [],
   "source": [
    "leaf_cats = np.array([40,20])"
   ]
  },
  {
   "cell_type": "code",
   "execution_count": 532,
   "metadata": {},
   "outputs": [
    {
     "data": {
      "text/plain": [
       "[3, 0]"
      ]
     },
     "execution_count": 532,
     "metadata": {},
     "output_type": "execute_result"
    }
   ],
   "source": [
    "leaf_cat_idxs = [list(cats_by_most_common).index(cat) for cat in leaf_cats]\n",
    "leaf_cat_idxs"
   ]
  },
  {
   "cell_type": "code",
   "execution_count": 533,
   "metadata": {},
   "outputs": [
    {
     "data": {
      "text/plain": [
       "20"
      ]
     },
     "execution_count": 533,
     "metadata": {},
     "output_type": "execute_result"
    }
   ],
   "source": [
    "most_common_leaf_cat = cats_by_most_common[np.min(leaf_cat_idxs)]\n",
    "most_common_leaf_cat"
   ]
  },
  {
   "cell_type": "code",
   "execution_count": 51,
   "metadata": {},
   "outputs": [
    {
     "data": {
      "text/html": [
       "<div>\n",
       "<style scoped>\n",
       "    .dataframe tbody tr th:only-of-type {\n",
       "        vertical-align: middle;\n",
       "    }\n",
       "\n",
       "    .dataframe tbody tr th {\n",
       "        vertical-align: top;\n",
       "    }\n",
       "\n",
       "    .dataframe thead th {\n",
       "        text-align: right;\n",
       "    }\n",
       "</style>\n",
       "<table border=\"1\" class=\"dataframe\">\n",
       "  <thead>\n",
       "    <tr style=\"text-align: right;\">\n",
       "      <th></th>\n",
       "      <th>x1</th>\n",
       "      <th>y</th>\n",
       "    </tr>\n",
       "  </thead>\n",
       "  <tbody>\n",
       "    <tr>\n",
       "      <td>0</td>\n",
       "      <td>1</td>\n",
       "      <td>100</td>\n",
       "    </tr>\n",
       "    <tr>\n",
       "      <td>1</td>\n",
       "      <td>2</td>\n",
       "      <td>100</td>\n",
       "    </tr>\n",
       "    <tr>\n",
       "      <td>2</td>\n",
       "      <td>3</td>\n",
       "      <td>100</td>\n",
       "    </tr>\n",
       "  </tbody>\n",
       "</table>\n",
       "</div>"
      ],
      "text/plain": [
       "   x1    y\n",
       "0   1  100\n",
       "1   2  100\n",
       "2   3  100"
      ]
     },
     "execution_count": 51,
     "metadata": {},
     "output_type": "execute_result"
    }
   ],
   "source": [
    "df = pd.DataFrame()\n",
    "df['x1'] = [1,2,3]\n",
    "df['y']  = [100,100,100]\n",
    "#df['y'] -= 150\n",
    "df"
   ]
  },
  {
   "cell_type": "code",
   "execution_count": 52,
   "metadata": {},
   "outputs": [
    {
     "data": {
      "text/html": [
       "<div>\n",
       "<style scoped>\n",
       "    .dataframe tbody tr th:only-of-type {\n",
       "        vertical-align: middle;\n",
       "    }\n",
       "\n",
       "    .dataframe tbody tr th {\n",
       "        vertical-align: top;\n",
       "    }\n",
       "\n",
       "    .dataframe thead th {\n",
       "        text-align: right;\n",
       "    }\n",
       "</style>\n",
       "<table border=\"1\" class=\"dataframe\">\n",
       "  <thead>\n",
       "    <tr style=\"text-align: right;\">\n",
       "      <th></th>\n",
       "      <th>x1</th>\n",
       "      <th>y</th>\n",
       "    </tr>\n",
       "  </thead>\n",
       "  <tbody>\n",
       "    <tr>\n",
       "      <td>0</td>\n",
       "      <td>3</td>\n",
       "      <td>200</td>\n",
       "    </tr>\n",
       "    <tr>\n",
       "      <td>1</td>\n",
       "      <td>4</td>\n",
       "      <td>200</td>\n",
       "    </tr>\n",
       "    <tr>\n",
       "      <td>2</td>\n",
       "      <td>5</td>\n",
       "      <td>200</td>\n",
       "    </tr>\n",
       "  </tbody>\n",
       "</table>\n",
       "</div>"
      ],
      "text/plain": [
       "   x1    y\n",
       "0   3  200\n",
       "1   4  200\n",
       "2   5  200"
      ]
     },
     "execution_count": 52,
     "metadata": {},
     "output_type": "execute_result"
    }
   ],
   "source": [
    "df2 = pd.DataFrame()\n",
    "df2['x1'] = [3,4,5]\n",
    "df2['y']  = [200,200,200]\n",
    "#df2['y'] -= 150\n",
    "df2"
   ]
  },
  {
   "cell_type": "code",
   "execution_count": 53,
   "metadata": {},
   "outputs": [
    {
     "name": "stdout",
     "output_type": "stream",
     "text": [
      "   x1   y\n",
      "0   1 -50\n",
      "1   2 -50\n",
      "2   3   0\n",
      "3   4  50\n",
      "4   5  50\n"
     ]
    }
   ],
   "source": [
    "df3 = df.merge(df2, on='x1', how='outer')\n",
    "#df3['y'] = df3['y_x'] + df3['y_y']\n",
    "df3['y'] = [-50,-50,0,50,50]\n",
    "df3 = df3[['x1','y']]\n",
    "print(df3)"
   ]
  },
  {
   "cell_type": "code",
   "execution_count": 71,
   "metadata": {},
   "outputs": [],
   "source": [
    "def load_flights(n):\n",
    "    \"\"\"\n",
    "    Download from https://www.kaggle.com/usdot/flight-delays/download and save\n",
    "    flight-delays.zip; unzip to convenient data dir.  Save time by storing as\n",
    "    feather.  5.8M records.\n",
    "    \"\"\"\n",
    "    dir = \"/Users/parrt/data/flight-delays\"\n",
    "    if os.path.exists(dir+\"/flights.feather\"):\n",
    "        df_flights = pd.read_feather(dir + \"/flights.feather\")\n",
    "    else:\n",
    "        df_flights = pd.read_csv(dir+\"/flights.csv\", low_memory=False)\n",
    "        df_flights.to_feather(dir+\"/flights.feather\")\n",
    "\n",
    "    df_flights['dayofyear'] = pd.to_datetime(\n",
    "        df_flights[['YEAR', 'MONTH', 'DAY']]).dt.dayofyear\n",
    "    df_flights = df_flights[\n",
    "        (df_flights['CANCELLED'] == 0) & (df_flights['DIVERTED'] == 0)]\n",
    "\n",
    "    # times are in 830 to mean 08:30, convert to two columns, hour and min\n",
    "    def cvt_time(df, colname):\n",
    "        df[f'{colname}_HOUR'] = df[colname] / 100\n",
    "        df[f'{colname}_HOUR'] = df[f'{colname}_HOUR'].astype(int)\n",
    "        df[f'{colname}_MIN']  = df[colname] - df[f'{colname}_HOUR'] * 100\n",
    "        df[f'{colname}_MIN']  = df[f'{colname}_MIN'].astype(int)\n",
    "\n",
    "    # cvt_time(df_flights, 'SCHEDULED_DEPARTURE')\n",
    "    # cvt_time(df_flights, 'SCHEDULED_ARRIVAL')\n",
    "    # cvt_time(df_flights, 'DEPARTURE_TIME')\n",
    "\n",
    "    features = [#'YEAR',  # drop year as it's a constant\n",
    "                'MONTH', 'DAY', 'DAY_OF_WEEK', 'dayofyear',\n",
    "                'AIRLINE', 'ORIGIN_AIRPORT', 'DESTINATION_AIRPORT',\n",
    "                'SCHEDULED_DEPARTURE',\n",
    "                # 'SCHEDULED_DEPARTURE_HOUR', 'SCHEDULED_DEPARTURE_MIN',\n",
    "                'SCHEDULED_ARRIVAL',\n",
    "                # 'SCHEDULED_ARRIVAL_HOUR',   'SCHEDULED_ARRIVAL_MIN',\n",
    "                'DEPARTURE_TIME',\n",
    "                # 'DEPARTURE_TIME_HOUR',      'DEPARTURE_TIME_MIN',\n",
    "                'FLIGHT_NUMBER', 'TAIL_NUMBER',\n",
    "                'AIR_TIME', 'DISTANCE',\n",
    "                'TAXI_IN', 'TAXI_OUT',\n",
    "                'SCHEDULED_TIME',\n",
    "                'ARRIVAL_DELAY']  # target\n",
    "\n",
    "    df_flights = df_flights[features]\n",
    "    df_flights = df_flights.dropna()  # ignore missing stuff for ease and reduce size\n",
    "    df_flights = df_flights.sample(n)\n",
    "    df_string_to_cat(df_flights)\n",
    "    df_cat_to_catcode(df_flights)\n",
    "\n",
    "    X, y = df_flights.drop('ARRIVAL_DELAY', axis=1), df_flights['ARRIVAL_DELAY']\n",
    "\n",
    "    return X, y, df_flights\n",
    "\n",
    "def df_string_to_cat(df:pd.DataFrame) -> dict:\n",
    "    catencoders = {}\n",
    "    for colname in df.columns:\n",
    "        if is_string_dtype(df[colname]) or is_object_dtype(df[colname]):\n",
    "            df[colname] = df[colname].astype('category').cat.as_ordered()\n",
    "            catencoders[colname] = df[colname].cat.categories\n",
    "    return catencoders\n",
    "\n",
    "\n",
    "def df_cat_to_catcode(df):\n",
    "    for col in df.columns:\n",
    "        if is_categorical_dtype(df[col]):\n",
    "            df[col] = df[col].cat.codes + 1\n",
    "\n",
    "\n",
    "def fix_missing_num(df, colname):\n",
    "    df[colname+'_na'] = pd.isnull(df[colname]).astype(int)\n",
    "    df[colname].fillna(df[colname].median(), inplace=True)\n",
    "\n",
    "\n",
    "def df_split_dates(df,colname):\n",
    "    df[\"saleyear\"] = df[colname].dt.year\n",
    "    df[\"salemonth\"] = df[colname].dt.month\n",
    "    df[\"saleday\"] = df[colname].dt.day\n",
    "    df[\"saledayofweek\"] = df[colname].dt.dayofweek\n",
    "    df[\"saledayofyear\"] = df[colname].dt.dayofyear\n",
    "    df[colname] = df[colname].astype(np.int64) # convert to seconds since 1970\n"
   ]
  },
  {
   "cell_type": "code",
   "execution_count": 114,
   "metadata": {},
   "outputs": [],
   "source": [
    "X, y, df_flights = load_flights(1000)"
   ]
  },
  {
   "cell_type": "code",
   "execution_count": 115,
   "metadata": {},
   "outputs": [],
   "source": [
    "catcolnames={'AIRLINE',\n",
    "          'ORIGIN_AIRPORT',\n",
    "          'DESTINATION_AIRPORT',\n",
    "          'FLIGHT_NUMBER',\n",
    "          'DAY_OF_WEEK'}\n",
    "features=df_flights.columns\n",
    "df = pd.DataFrame(X, columns=features)\n",
    "#df"
   ]
  },
  {
   "cell_type": "code",
   "execution_count": 123,
   "metadata": {},
   "outputs": [],
   "source": [
    "for cat in catcolnames:\n",
    "    df[cat] = df[cat].astype('category').cat.as_ordered()\n",
    "dummies = pd.get_dummies(df)\n",
    "X = pd.concat([df, dummies], axis=1)\n",
    "X = X.drop(catcolnames, axis=1)"
   ]
  },
  {
   "cell_type": "code",
   "execution_count": 128,
   "metadata": {},
   "outputs": [],
   "source": [
    "X = X.fillna(0)  # flip missing numeric values to zeros"
   ]
  },
  {
   "cell_type": "code",
   "execution_count": 129,
   "metadata": {},
   "outputs": [
    {
     "data": {
      "text/plain": [
       "False"
      ]
     },
     "execution_count": 129,
     "metadata": {},
     "output_type": "execute_result"
    }
   ],
   "source": [
    "np.isnan(X.values).any()"
   ]
  },
  {
   "cell_type": "code",
   "execution_count": 131,
   "metadata": {},
   "outputs": [
    {
     "data": {
      "text/plain": [
       "6.198033730697716e-11"
      ]
     },
     "execution_count": 131,
     "metadata": {},
     "output_type": "execute_result"
    }
   ],
   "source": [
    "m = LinearRegression()\n",
    "m.fit(X, y)\n",
    "y_pred = m.predict(X)\n",
    "mean_absolute_error(y, y_pred)"
   ]
  },
  {
   "cell_type": "markdown",
   "metadata": {},
   "source": [
    "## Basketball"
   ]
  },
  {
   "cell_type": "code",
   "execution_count": 108,
   "metadata": {},
   "outputs": [
    {
     "data": {
      "text/html": [
       "<div>\n",
       "<style scoped>\n",
       "    .dataframe tbody tr th:only-of-type {\n",
       "        vertical-align: middle;\n",
       "    }\n",
       "\n",
       "    .dataframe tbody tr th {\n",
       "        vertical-align: top;\n",
       "    }\n",
       "\n",
       "    .dataframe thead th {\n",
       "        text-align: right;\n",
       "    }\n",
       "</style>\n",
       "<table border=\"1\" class=\"dataframe\">\n",
       "  <thead>\n",
       "    <tr style=\"text-align: right;\">\n",
       "      <th></th>\n",
       "      <th>Height</th>\n",
       "    </tr>\n",
       "  </thead>\n",
       "  <tbody>\n",
       "    <tr>\n",
       "      <td>Ctr</td>\n",
       "      <td>84</td>\n",
       "    </tr>\n",
       "    <tr>\n",
       "      <td>Guard1</td>\n",
       "      <td>72</td>\n",
       "    </tr>\n",
       "    <tr>\n",
       "      <td>Guard2</td>\n",
       "      <td>73</td>\n",
       "    </tr>\n",
       "    <tr>\n",
       "      <td>Forward1</td>\n",
       "      <td>80</td>\n",
       "    </tr>\n",
       "    <tr>\n",
       "      <td>Forward2</td>\n",
       "      <td>82</td>\n",
       "    </tr>\n",
       "  </tbody>\n",
       "</table>\n",
       "</div>"
      ],
      "text/plain": [
       "          Height\n",
       "Ctr           84\n",
       "Guard1        72\n",
       "Guard2        73\n",
       "Forward1      80\n",
       "Forward2      82"
      ]
     },
     "execution_count": 108,
     "metadata": {},
     "output_type": "execute_result"
    }
   ],
   "source": [
    "df = pd.DataFrame(data=[84,72,73,80,82], index=['Ctr','Guard1','Guard2','Forward1','Forward2'],\n",
    "                  columns=['Height'])\n",
    "df"
   ]
  },
  {
   "cell_type": "code",
   "execution_count": 109,
   "metadata": {},
   "outputs": [
    {
     "data": {
      "text/html": [
       "<div>\n",
       "<style scoped>\n",
       "    .dataframe tbody tr th:only-of-type {\n",
       "        vertical-align: middle;\n",
       "    }\n",
       "\n",
       "    .dataframe tbody tr th {\n",
       "        vertical-align: top;\n",
       "    }\n",
       "\n",
       "    .dataframe thead th {\n",
       "        text-align: right;\n",
       "    }\n",
       "</style>\n",
       "<table border=\"1\" class=\"dataframe\">\n",
       "  <thead>\n",
       "    <tr style=\"text-align: right;\">\n",
       "      <th></th>\n",
       "      <th>Height</th>\n",
       "      <th>Ctr Delta</th>\n",
       "      <th>G1 Delta</th>\n",
       "      <th>G2 Delta</th>\n",
       "      <th>F1 Delta</th>\n",
       "      <th>F2 Delta</th>\n",
       "    </tr>\n",
       "  </thead>\n",
       "  <tbody>\n",
       "    <tr>\n",
       "      <td>Ctr</td>\n",
       "      <td>84</td>\n",
       "      <td>0</td>\n",
       "      <td>12</td>\n",
       "      <td>11</td>\n",
       "      <td>4</td>\n",
       "      <td>2</td>\n",
       "    </tr>\n",
       "    <tr>\n",
       "      <td>Guard1</td>\n",
       "      <td>72</td>\n",
       "      <td>-12</td>\n",
       "      <td>0</td>\n",
       "      <td>-1</td>\n",
       "      <td>-8</td>\n",
       "      <td>-10</td>\n",
       "    </tr>\n",
       "    <tr>\n",
       "      <td>Guard2</td>\n",
       "      <td>73</td>\n",
       "      <td>-11</td>\n",
       "      <td>1</td>\n",
       "      <td>0</td>\n",
       "      <td>-7</td>\n",
       "      <td>-9</td>\n",
       "    </tr>\n",
       "    <tr>\n",
       "      <td>Forward1</td>\n",
       "      <td>80</td>\n",
       "      <td>-4</td>\n",
       "      <td>8</td>\n",
       "      <td>7</td>\n",
       "      <td>0</td>\n",
       "      <td>-2</td>\n",
       "    </tr>\n",
       "    <tr>\n",
       "      <td>Forward2</td>\n",
       "      <td>82</td>\n",
       "      <td>-2</td>\n",
       "      <td>10</td>\n",
       "      <td>9</td>\n",
       "      <td>2</td>\n",
       "      <td>0</td>\n",
       "    </tr>\n",
       "  </tbody>\n",
       "</table>\n",
       "</div>"
      ],
      "text/plain": [
       "          Height  Ctr Delta  G1 Delta  G2 Delta  F1 Delta  F2 Delta\n",
       "Ctr           84          0        12        11         4         2\n",
       "Guard1        72        -12         0        -1        -8       -10\n",
       "Guard2        73        -11         1         0        -7        -9\n",
       "Forward1      80         -4         8         7         0        -2\n",
       "Forward2      82         -2        10         9         2         0"
      ]
     },
     "execution_count": 109,
     "metadata": {},
     "output_type": "execute_result"
    }
   ],
   "source": [
    "df['Ctr Delta'] = df['Height'] - df.loc['Ctr','Height']\n",
    "df['G1 Delta'] = df['Height'] - df.loc['Guard1','Height']\n",
    "df['G2 Delta'] = df['Height'] - df.loc['Guard2','Height']\n",
    "df['F1 Delta'] = df['Height'] - df.loc['Forward1','Height']\n",
    "df['F2 Delta'] = df['Height'] - df.loc['Forward2','Height']\n",
    "df"
   ]
  },
  {
   "cell_type": "code",
   "execution_count": 110,
   "metadata": {},
   "outputs": [
    {
     "data": {
      "text/plain": [
       "array([[  0,  12,  11,   4,   2],\n",
       "       [  0,   0,  -1,  -8, -10],\n",
       "       [  0,   0,   0,  -7,  -9],\n",
       "       [  0,   0,   0,   0,  -2],\n",
       "       [  0,   0,   0,   0,   0]])"
      ]
     },
     "execution_count": 110,
     "metadata": {},
     "output_type": "execute_result"
    }
   ],
   "source": [
    "U = np.triu(df.iloc[:,1:])\n",
    "U"
   ]
  },
  {
   "cell_type": "code",
   "execution_count": 111,
   "metadata": {},
   "outputs": [
    {
     "data": {
      "text/plain": [
       "(6.6, 2.64)"
      ]
     },
     "execution_count": 111,
     "metadata": {},
     "output_type": "execute_result"
    }
   ],
   "source": [
    "np.sum(np.abs(U))/(5*4/2), np.mean(np.abs(U))"
   ]
  },
  {
   "cell_type": "code",
   "execution_count": 112,
   "metadata": {},
   "outputs": [
    {
     "data": {
      "text/html": [
       "<div>\n",
       "<style scoped>\n",
       "    .dataframe tbody tr th:only-of-type {\n",
       "        vertical-align: middle;\n",
       "    }\n",
       "\n",
       "    .dataframe tbody tr th {\n",
       "        vertical-align: top;\n",
       "    }\n",
       "\n",
       "    .dataframe thead th {\n",
       "        text-align: right;\n",
       "    }\n",
       "</style>\n",
       "<table border=\"1\" class=\"dataframe\">\n",
       "  <thead>\n",
       "    <tr style=\"text-align: right;\">\n",
       "      <th></th>\n",
       "      <th>Height</th>\n",
       "      <th>Ctr Delta</th>\n",
       "      <th>G1 Delta</th>\n",
       "      <th>G2 Delta</th>\n",
       "      <th>F1 Delta</th>\n",
       "      <th>F2 Delta</th>\n",
       "    </tr>\n",
       "  </thead>\n",
       "  <tbody>\n",
       "    <tr>\n",
       "      <td>Ctr</td>\n",
       "      <td>84.0</td>\n",
       "      <td>0.0</td>\n",
       "      <td>12.0</td>\n",
       "      <td>11.0</td>\n",
       "      <td>4.0</td>\n",
       "      <td>2.0</td>\n",
       "    </tr>\n",
       "    <tr>\n",
       "      <td>Guard1</td>\n",
       "      <td>72.0</td>\n",
       "      <td>-12.0</td>\n",
       "      <td>0.0</td>\n",
       "      <td>-1.0</td>\n",
       "      <td>-8.0</td>\n",
       "      <td>-10.0</td>\n",
       "    </tr>\n",
       "    <tr>\n",
       "      <td>Guard2</td>\n",
       "      <td>73.0</td>\n",
       "      <td>-11.0</td>\n",
       "      <td>1.0</td>\n",
       "      <td>0.0</td>\n",
       "      <td>-7.0</td>\n",
       "      <td>-9.0</td>\n",
       "    </tr>\n",
       "    <tr>\n",
       "      <td>Forward1</td>\n",
       "      <td>80.0</td>\n",
       "      <td>-4.0</td>\n",
       "      <td>8.0</td>\n",
       "      <td>7.0</td>\n",
       "      <td>0.0</td>\n",
       "      <td>-2.0</td>\n",
       "    </tr>\n",
       "    <tr>\n",
       "      <td>Forward2</td>\n",
       "      <td>82.0</td>\n",
       "      <td>-2.0</td>\n",
       "      <td>10.0</td>\n",
       "      <td>9.0</td>\n",
       "      <td>2.0</td>\n",
       "      <td>0.0</td>\n",
       "    </tr>\n",
       "    <tr>\n",
       "      <td>Avg</td>\n",
       "      <td>78.2</td>\n",
       "      <td>-5.8</td>\n",
       "      <td>6.2</td>\n",
       "      <td>5.2</td>\n",
       "      <td>-1.8</td>\n",
       "      <td>-3.8</td>\n",
       "    </tr>\n",
       "  </tbody>\n",
       "</table>\n",
       "</div>"
      ],
      "text/plain": [
       "          Height  Ctr Delta  G1 Delta  G2 Delta  F1 Delta  F2 Delta\n",
       "Ctr         84.0        0.0      12.0      11.0       4.0       2.0\n",
       "Guard1      72.0      -12.0       0.0      -1.0      -8.0     -10.0\n",
       "Guard2      73.0      -11.0       1.0       0.0      -7.0      -9.0\n",
       "Forward1    80.0       -4.0       8.0       7.0       0.0      -2.0\n",
       "Forward2    82.0       -2.0      10.0       9.0       2.0       0.0\n",
       "Avg         78.2       -5.8       6.2       5.2      -1.8      -3.8"
      ]
     },
     "execution_count": 112,
     "metadata": {},
     "output_type": "execute_result"
    }
   ],
   "source": [
    "df.loc['Avg'] = np.mean(df,axis=0)\n",
    "df"
   ]
  },
  {
   "cell_type": "markdown",
   "metadata": {},
   "source": [
    "## Weighted cat impact"
   ]
  },
  {
   "cell_type": "code",
   "execution_count": 163,
   "metadata": {},
   "outputs": [],
   "source": [
    "def all_pairs_abs_delta(avg_per_cat):\n",
    "    \"\"\"\n",
    "    Impact for a categorical variable x_j is the average magnitude of change of\n",
    "    PD_j from category level A to level B, for all possible pairs A,B. NaN entries\n",
    "    indicate we have no data for that category and so these are ignored.\n",
    "\n",
    "    Mathematically, we are filling an upper triangular matrix by putting the raw\n",
    "    avg_per_cat as first row, then shifting that vector by k=1, 2, 3, ... to get\n",
    "    the other rows of the matrix. Then, we take the nanmean of the upper triangular\n",
    "    part. The lower triangular part is the negative of the upper and the diagonal is 0\n",
    "\n",
    "    See test_avg_all_pairs_abs_delta.py for unit tests.\n",
    "    \"\"\"\n",
    "    # first find catcodes (same as index into avg_per_cat). Find all non-NaN\n",
    "    catcodes = np.where(~np.isnan(avg_per_cat))[0]\n",
    "    all_pairwise_deltas = []\n",
    "    for k in catcodes:\n",
    "        # Shift cat k to 0 to find relative bump up/down to others;\n",
    "        # Since not all cats are present, some of these are still NaN\n",
    "        rel_to_k = avg_per_cat - avg_per_cat[k]\n",
    "        all_pairwise_deltas.extend(rel_to_k[k+1:])\n",
    "        # print(rel_to_k[k+1:])\n",
    "    # print(len(avg_per_cat), len(all_pairwise_deltas))\n",
    "    return all_pairwise_deltas"
   ]
  },
  {
   "cell_type": "code",
   "execution_count": 124,
   "metadata": {},
   "outputs": [
    {
     "data": {
      "text/html": [
       "<div>\n",
       "<style scoped>\n",
       "    .dataframe tbody tr th:only-of-type {\n",
       "        vertical-align: middle;\n",
       "    }\n",
       "\n",
       "    .dataframe tbody tr th {\n",
       "        vertical-align: top;\n",
       "    }\n",
       "\n",
       "    .dataframe thead th {\n",
       "        text-align: right;\n",
       "    }\n",
       "</style>\n",
       "<table border=\"1\" class=\"dataframe\">\n",
       "  <thead>\n",
       "    <tr style=\"text-align: right;\">\n",
       "      <th></th>\n",
       "      <th>A</th>\n",
       "      <th>B</th>\n",
       "      <th>C</th>\n",
       "      <th>D</th>\n",
       "      <th>E</th>\n",
       "    </tr>\n",
       "  </thead>\n",
       "  <tbody>\n",
       "    <tr>\n",
       "      <td>A</td>\n",
       "      <td>0.0</td>\n",
       "      <td>12.0</td>\n",
       "      <td>11.0</td>\n",
       "      <td>4.0</td>\n",
       "      <td>2.0</td>\n",
       "    </tr>\n",
       "    <tr>\n",
       "      <td>B</td>\n",
       "      <td>-12.0</td>\n",
       "      <td>0.0</td>\n",
       "      <td>-1.0</td>\n",
       "      <td>-8.0</td>\n",
       "      <td>-10.0</td>\n",
       "    </tr>\n",
       "    <tr>\n",
       "      <td>C</td>\n",
       "      <td>-11.0</td>\n",
       "      <td>1.0</td>\n",
       "      <td>0.0</td>\n",
       "      <td>-7.0</td>\n",
       "      <td>-9.0</td>\n",
       "    </tr>\n",
       "    <tr>\n",
       "      <td>D</td>\n",
       "      <td>-4.0</td>\n",
       "      <td>8.0</td>\n",
       "      <td>7.0</td>\n",
       "      <td>0.0</td>\n",
       "      <td>-2.0</td>\n",
       "    </tr>\n",
       "    <tr>\n",
       "      <td>E</td>\n",
       "      <td>-2.0</td>\n",
       "      <td>10.0</td>\n",
       "      <td>9.0</td>\n",
       "      <td>2.0</td>\n",
       "      <td>0.0</td>\n",
       "    </tr>\n",
       "  </tbody>\n",
       "</table>\n",
       "</div>"
      ],
      "text/plain": [
       "      A     B     C    D     E\n",
       "A   0.0  12.0  11.0  4.0   2.0\n",
       "B -12.0   0.0  -1.0 -8.0 -10.0\n",
       "C -11.0   1.0   0.0 -7.0  -9.0\n",
       "D  -4.0   8.0   7.0  0.0  -2.0\n",
       "E  -2.0  10.0   9.0  2.0   0.0"
      ]
     },
     "execution_count": 124,
     "metadata": {},
     "output_type": "execute_result"
    }
   ],
   "source": [
    "dy = np.array([0.0,12.0,11.0,4.0,2.0])\n",
    "I = np.array([dy, dy - dy[1], dy - dy[2], dy - dy[3], dy - dy[4]])\n",
    "I = pd.DataFrame(I, columns=['A','B','C','D','E'], index=['A','B','C','D','E'])\n",
    "I"
   ]
  },
  {
   "cell_type": "code",
   "execution_count": 200,
   "metadata": {},
   "outputs": [
    {
     "data": {
      "text/plain": [
       "6.6"
      ]
     },
     "execution_count": 200,
     "metadata": {},
     "output_type": "execute_result"
    }
   ],
   "source": [
    "np.sum(np.abs(I.values)) / (25-5)"
   ]
  },
  {
   "cell_type": "code",
   "execution_count": 205,
   "metadata": {},
   "outputs": [
    {
     "data": {
      "text/plain": [
       "1.126706036745407"
      ]
     },
     "execution_count": 205,
     "metadata": {},
     "output_type": "execute_result"
    }
   ],
   "source": [
    "w = [100,15,78,910,421]\n",
    "np.sum(np.abs(I.values * w)) / ((25-5)*np.sum(w))"
   ]
  },
  {
   "cell_type": "code",
   "execution_count": 161,
   "metadata": {},
   "outputs": [
    {
     "data": {
      "text/plain": [
       "array([[  0.,  12.,  11.,   4.,   2.],\n",
       "       [  0.,   0.,  -1.,  -8., -10.],\n",
       "       [  0.,   0.,   0.,  -7.,  -9.],\n",
       "       [  0.,   0.,   0.,   0.,  -2.],\n",
       "       [  0.,   0.,   0.,   0.,   0.]])"
      ]
     },
     "execution_count": 161,
     "metadata": {},
     "output_type": "execute_result"
    }
   ],
   "source": [
    "np.triu(I)"
   ]
  },
  {
   "cell_type": "code",
   "execution_count": 168,
   "metadata": {},
   "outputs": [
    {
     "data": {
      "text/plain": [
       "[12.0, 11.0, 4.0, 2.0, -1.0, -8.0, -10.0, -7.0, -9.0, -2.0]"
      ]
     },
     "execution_count": 168,
     "metadata": {},
     "output_type": "execute_result"
    }
   ],
   "source": [
    "pairs = all_pairs_abs_delta(np.array([  0.,  12.,  11.,   4.,   2.]))\n",
    "pairs"
   ]
  },
  {
   "cell_type": "code",
   "execution_count": 169,
   "metadata": {},
   "outputs": [
    {
     "data": {
      "text/plain": [
       "6.6"
      ]
     },
     "execution_count": 169,
     "metadata": {},
     "output_type": "execute_result"
    }
   ],
   "source": [
    "np.mean(np.abs(pairs))"
   ]
  },
  {
   "cell_type": "code",
   "execution_count": 176,
   "metadata": {},
   "outputs": [
    {
     "data": {
      "text/plain": [
       "6.6"
      ]
     },
     "execution_count": 176,
     "metadata": {},
     "output_type": "execute_result"
    }
   ],
   "source": [
    "np.sum(np.abs(np.triu(I))) / 10"
   ]
  },
  {
   "cell_type": "code",
   "execution_count": 179,
   "metadata": {},
   "outputs": [
    {
     "data": {
      "text/plain": [
       "6.6"
      ]
     },
     "execution_count": 179,
     "metadata": {},
     "output_type": "execute_result"
    }
   ],
   "source": [
    "np.sum(np.abs(I.values)) / 20"
   ]
  },
  {
   "cell_type": "code",
   "execution_count": 170,
   "metadata": {},
   "outputs": [
    {
     "data": {
      "text/plain": [
       "2.64"
      ]
     },
     "execution_count": 170,
     "metadata": {},
     "output_type": "execute_result"
    }
   ],
   "source": [
    "np.mean(np.abs(np.triu(I)))"
   ]
  },
  {
   "cell_type": "code",
   "execution_count": 174,
   "metadata": {},
   "outputs": [
    {
     "data": {
      "text/plain": [
       "2.64"
      ]
     },
     "execution_count": 174,
     "metadata": {},
     "output_type": "execute_result"
    }
   ],
   "source": [
    "np.mean(np.abs(I.values))/2"
   ]
  },
  {
   "cell_type": "code",
   "execution_count": 197,
   "metadata": {},
   "outputs": [
    {
     "data": {
      "text/html": [
       "<div>\n",
       "<style scoped>\n",
       "    .dataframe tbody tr th:only-of-type {\n",
       "        vertical-align: middle;\n",
       "    }\n",
       "\n",
       "    .dataframe tbody tr th {\n",
       "        vertical-align: top;\n",
       "    }\n",
       "\n",
       "    .dataframe thead th {\n",
       "        text-align: right;\n",
       "    }\n",
       "</style>\n",
       "<table border=\"1\" class=\"dataframe\">\n",
       "  <thead>\n",
       "    <tr style=\"text-align: right;\">\n",
       "      <th></th>\n",
       "      <th>A</th>\n",
       "      <th>B</th>\n",
       "      <th>C</th>\n",
       "      <th>D</th>\n",
       "      <th>E</th>\n",
       "      <th>avg</th>\n",
       "    </tr>\n",
       "    <tr>\n",
       "      <th>names</th>\n",
       "      <th></th>\n",
       "      <th></th>\n",
       "      <th></th>\n",
       "      <th></th>\n",
       "      <th></th>\n",
       "      <th></th>\n",
       "    </tr>\n",
       "  </thead>\n",
       "  <tbody>\n",
       "    <tr>\n",
       "      <td>A</td>\n",
       "      <td>0.00</td>\n",
       "      <td>12.00</td>\n",
       "      <td>11.0</td>\n",
       "      <td>4.00</td>\n",
       "      <td>2.00</td>\n",
       "      <td>5.8</td>\n",
       "    </tr>\n",
       "    <tr>\n",
       "      <td>B</td>\n",
       "      <td>-12.00</td>\n",
       "      <td>0.00</td>\n",
       "      <td>-1.0</td>\n",
       "      <td>-8.00</td>\n",
       "      <td>-10.00</td>\n",
       "      <td>-6.2</td>\n",
       "    </tr>\n",
       "    <tr>\n",
       "      <td>C</td>\n",
       "      <td>-11.00</td>\n",
       "      <td>1.00</td>\n",
       "      <td>0.0</td>\n",
       "      <td>-7.00</td>\n",
       "      <td>-9.00</td>\n",
       "      <td>-5.2</td>\n",
       "    </tr>\n",
       "    <tr>\n",
       "      <td>D</td>\n",
       "      <td>-4.00</td>\n",
       "      <td>8.00</td>\n",
       "      <td>7.0</td>\n",
       "      <td>0.00</td>\n",
       "      <td>-2.00</td>\n",
       "      <td>1.8</td>\n",
       "    </tr>\n",
       "    <tr>\n",
       "      <td>E</td>\n",
       "      <td>-2.00</td>\n",
       "      <td>10.00</td>\n",
       "      <td>9.0</td>\n",
       "      <td>2.00</td>\n",
       "      <td>0.00</td>\n",
       "      <td>3.8</td>\n",
       "    </tr>\n",
       "    <tr>\n",
       "      <td>avg</td>\n",
       "      <td>-7.25</td>\n",
       "      <td>7.75</td>\n",
       "      <td>6.5</td>\n",
       "      <td>-2.25</td>\n",
       "      <td>-4.75</td>\n",
       "      <td>NaN</td>\n",
       "    </tr>\n",
       "  </tbody>\n",
       "</table>\n",
       "</div>"
      ],
      "text/plain": [
       "           A      B     C     D      E  avg\n",
       "names                                      \n",
       "A       0.00  12.00  11.0  4.00   2.00  5.8\n",
       "B     -12.00   0.00  -1.0 -8.00 -10.00 -6.2\n",
       "C     -11.00   1.00   0.0 -7.00  -9.00 -5.2\n",
       "D      -4.00   8.00   7.0  0.00  -2.00  1.8\n",
       "E      -2.00  10.00   9.0  2.00   0.00  3.8\n",
       "avg    -7.25   7.75   6.5 -2.25  -4.75  NaN"
      ]
     },
     "execution_count": 197,
     "metadata": {},
     "output_type": "execute_result"
    }
   ],
   "source": [
    "I_ = I.copy()\n",
    "I_['avg'] = np.mean(I, axis=1)\n",
    "I_ = I_.append(np.sum(I, axis=0)/(5-1), ignore_index=True)\n",
    "I_['names'] = ['A','B','C','D','E','avg']\n",
    "I_ = I_.set_index('names')\n",
    "I_"
   ]
  },
  {
   "cell_type": "markdown",
   "metadata": {},
   "source": [
    "## City population"
   ]
  },
  {
   "cell_type": "code",
   "execution_count": 89,
   "metadata": {},
   "outputs": [
    {
     "name": "stdout",
     "output_type": "stream",
     "text": [
      "NOISELESS, COMMON CITIES HAVE SAME VALUES\n"
     ]
    },
    {
     "data": {
      "text/html": [
       "<div>\n",
       "<style scoped>\n",
       "    .dataframe tbody tr th:only-of-type {\n",
       "        vertical-align: middle;\n",
       "    }\n",
       "\n",
       "    .dataframe tbody tr th {\n",
       "        vertical-align: top;\n",
       "    }\n",
       "\n",
       "    .dataframe thead th {\n",
       "        text-align: right;\n",
       "    }\n",
       "</style>\n",
       "<table border=\"1\" class=\"dataframe\">\n",
       "  <thead>\n",
       "    <tr style=\"text-align: right;\">\n",
       "      <th></th>\n",
       "      <th>Group1</th>\n",
       "      <th>Group2</th>\n",
       "      <th>Avg</th>\n",
       "    </tr>\n",
       "  </thead>\n",
       "  <tbody>\n",
       "    <tr>\n",
       "      <td>SF</td>\n",
       "      <td>0.8</td>\n",
       "      <td>NaN</td>\n",
       "      <td>0.8</td>\n",
       "    </tr>\n",
       "    <tr>\n",
       "      <td>LA</td>\n",
       "      <td>14.0</td>\n",
       "      <td>NaN</td>\n",
       "      <td>14.0</td>\n",
       "    </tr>\n",
       "    <tr>\n",
       "      <td>Peoria</td>\n",
       "      <td>0.1</td>\n",
       "      <td>NaN</td>\n",
       "      <td>0.1</td>\n",
       "    </tr>\n",
       "    <tr>\n",
       "      <td>Lyon</td>\n",
       "      <td>NaN</td>\n",
       "      <td>1.3</td>\n",
       "      <td>1.3</td>\n",
       "    </tr>\n",
       "    <tr>\n",
       "      <td>Paris</td>\n",
       "      <td>NaN</td>\n",
       "      <td>7.0</td>\n",
       "      <td>7.0</td>\n",
       "    </tr>\n",
       "    <tr>\n",
       "      <td>Bruge</td>\n",
       "      <td>NaN</td>\n",
       "      <td>0.4</td>\n",
       "      <td>0.4</td>\n",
       "    </tr>\n",
       "    <tr>\n",
       "      <td>London</td>\n",
       "      <td>NaN</td>\n",
       "      <td>9.0</td>\n",
       "      <td>9.0</td>\n",
       "    </tr>\n",
       "    <tr>\n",
       "      <td>NYC</td>\n",
       "      <td>10.0</td>\n",
       "      <td>10.0</td>\n",
       "      <td>10.0</td>\n",
       "    </tr>\n",
       "    <tr>\n",
       "      <td>Boston</td>\n",
       "      <td>3.0</td>\n",
       "      <td>3.0</td>\n",
       "      <td>3.0</td>\n",
       "    </tr>\n",
       "  </tbody>\n",
       "</table>\n",
       "</div>"
      ],
      "text/plain": [
       "        Group1  Group2   Avg\n",
       "SF         0.8     NaN   0.8\n",
       "LA        14.0     NaN  14.0\n",
       "Peoria     0.1     NaN   0.1\n",
       "Lyon       NaN     1.3   1.3\n",
       "Paris      NaN     7.0   7.0\n",
       "Bruge      NaN     0.4   0.4\n",
       "London     NaN     9.0   9.0\n",
       "NYC       10.0    10.0  10.0\n",
       "Boston     3.0     3.0   3.0"
      ]
     },
     "execution_count": 89,
     "metadata": {},
     "output_type": "execute_result"
    }
   ],
   "source": [
    "cities1 = ['NYC','SF','LA','Boston','Peoria']\n",
    "pop1   =  [10,.8,14,3,.1]\n",
    "cities2 = ['NYC','Boston','Paris','London','Bruge','Lyon']\n",
    "pop2   =  [10,3,7,9,.4, 1.3]\n",
    "\n",
    "cities = set(cities1).union(set(cities2))\n",
    "df = pd.DataFrame(index=cities)\n",
    "df['Group1'] = pd.Series(pop1,index=cities1)\n",
    "df['Group2'] = pd.Series(pop2,index=cities2)\n",
    "df['Avg'] = np.nanmean(df,axis=1)\n",
    "print(\"NOISELESS, COMMON CITIES HAVE SAME VALUES\")\n",
    "df"
   ]
  },
  {
   "cell_type": "markdown",
   "metadata": {},
   "source": [
    "### Make deltas now"
   ]
  },
  {
   "cell_type": "code",
   "execution_count": 90,
   "metadata": {},
   "outputs": [
    {
     "data": {
      "text/html": [
       "<div>\n",
       "<style scoped>\n",
       "    .dataframe tbody tr th:only-of-type {\n",
       "        vertical-align: middle;\n",
       "    }\n",
       "\n",
       "    .dataframe tbody tr th {\n",
       "        vertical-align: top;\n",
       "    }\n",
       "\n",
       "    .dataframe thead th {\n",
       "        text-align: right;\n",
       "    }\n",
       "</style>\n",
       "<table border=\"1\" class=\"dataframe\">\n",
       "  <thead>\n",
       "    <tr style=\"text-align: right;\">\n",
       "      <th></th>\n",
       "      <th>Group1</th>\n",
       "      <th>Group2</th>\n",
       "      <th>Avg</th>\n",
       "    </tr>\n",
       "  </thead>\n",
       "  <tbody>\n",
       "    <tr>\n",
       "      <td>SF</td>\n",
       "      <td>0.7</td>\n",
       "      <td>NaN</td>\n",
       "      <td>0.750000</td>\n",
       "    </tr>\n",
       "    <tr>\n",
       "      <td>LA</td>\n",
       "      <td>13.9</td>\n",
       "      <td>NaN</td>\n",
       "      <td>13.950000</td>\n",
       "    </tr>\n",
       "    <tr>\n",
       "      <td>Peoria</td>\n",
       "      <td>0.0</td>\n",
       "      <td>NaN</td>\n",
       "      <td>0.050000</td>\n",
       "    </tr>\n",
       "    <tr>\n",
       "      <td>Lyon</td>\n",
       "      <td>NaN</td>\n",
       "      <td>0.9</td>\n",
       "      <td>1.100000</td>\n",
       "    </tr>\n",
       "    <tr>\n",
       "      <td>Paris</td>\n",
       "      <td>NaN</td>\n",
       "      <td>6.6</td>\n",
       "      <td>6.800000</td>\n",
       "    </tr>\n",
       "    <tr>\n",
       "      <td>Bruge</td>\n",
       "      <td>NaN</td>\n",
       "      <td>0.0</td>\n",
       "      <td>0.200000</td>\n",
       "    </tr>\n",
       "    <tr>\n",
       "      <td>London</td>\n",
       "      <td>NaN</td>\n",
       "      <td>8.6</td>\n",
       "      <td>8.800000</td>\n",
       "    </tr>\n",
       "    <tr>\n",
       "      <td>NYC</td>\n",
       "      <td>9.9</td>\n",
       "      <td>9.6</td>\n",
       "      <td>9.833333</td>\n",
       "    </tr>\n",
       "    <tr>\n",
       "      <td>Boston</td>\n",
       "      <td>2.9</td>\n",
       "      <td>2.6</td>\n",
       "      <td>2.833333</td>\n",
       "    </tr>\n",
       "  </tbody>\n",
       "</table>\n",
       "</div>"
      ],
      "text/plain": [
       "        Group1  Group2        Avg\n",
       "SF         0.7     NaN   0.750000\n",
       "LA        13.9     NaN  13.950000\n",
       "Peoria     0.0     NaN   0.050000\n",
       "Lyon       NaN     0.9   1.100000\n",
       "Paris      NaN     6.6   6.800000\n",
       "Bruge      NaN     0.0   0.200000\n",
       "London     NaN     8.6   8.800000\n",
       "NYC        9.9     9.6   9.833333\n",
       "Boston     2.9     2.6   2.833333"
      ]
     },
     "execution_count": 90,
     "metadata": {},
     "output_type": "execute_result"
    }
   ],
   "source": [
    "df['Group1'] -= np.min(df['Group1'])\n",
    "df['Group2'] -= np.min(df['Group2'])\n",
    "df['Avg'] = np.nanmean(df,axis=1)\n",
    "#df = df.drop('Avg', axis=1)\n",
    "df"
   ]
  },
  {
   "cell_type": "markdown",
   "metadata": {},
   "source": [
    "### Merge by NYC\n",
    "\n",
    "Make NYC 0 point for both"
   ]
  },
  {
   "cell_type": "code",
   "execution_count": 92,
   "metadata": {},
   "outputs": [
    {
     "name": "stderr",
     "output_type": "stream",
     "text": [
      "/Users/parrt/opt/anaconda3/lib/python3.7/site-packages/ipykernel_launcher.py:3: RuntimeWarning: Mean of empty slice\n",
      "  This is separate from the ipykernel package so we can avoid doing imports until\n"
     ]
    },
    {
     "data": {
      "text/html": [
       "<div>\n",
       "<style scoped>\n",
       "    .dataframe tbody tr th:only-of-type {\n",
       "        vertical-align: middle;\n",
       "    }\n",
       "\n",
       "    .dataframe tbody tr th {\n",
       "        vertical-align: top;\n",
       "    }\n",
       "\n",
       "    .dataframe thead th {\n",
       "        text-align: right;\n",
       "    }\n",
       "</style>\n",
       "<table border=\"1\" class=\"dataframe\">\n",
       "  <thead>\n",
       "    <tr style=\"text-align: right;\">\n",
       "      <th></th>\n",
       "      <th>Group1</th>\n",
       "      <th>Group2</th>\n",
       "      <th>Avg</th>\n",
       "    </tr>\n",
       "  </thead>\n",
       "  <tbody>\n",
       "    <tr>\n",
       "      <td>SF</td>\n",
       "      <td>-9.2</td>\n",
       "      <td>NaN</td>\n",
       "      <td>-9.2</td>\n",
       "    </tr>\n",
       "    <tr>\n",
       "      <td>LA</td>\n",
       "      <td>4.0</td>\n",
       "      <td>NaN</td>\n",
       "      <td>4.0</td>\n",
       "    </tr>\n",
       "    <tr>\n",
       "      <td>Peoria</td>\n",
       "      <td>-9.9</td>\n",
       "      <td>NaN</td>\n",
       "      <td>-9.9</td>\n",
       "    </tr>\n",
       "    <tr>\n",
       "      <td>Lyon</td>\n",
       "      <td>NaN</td>\n",
       "      <td>-8.7</td>\n",
       "      <td>NaN</td>\n",
       "    </tr>\n",
       "    <tr>\n",
       "      <td>Paris</td>\n",
       "      <td>NaN</td>\n",
       "      <td>-3.0</td>\n",
       "      <td>NaN</td>\n",
       "    </tr>\n",
       "    <tr>\n",
       "      <td>Bruge</td>\n",
       "      <td>NaN</td>\n",
       "      <td>-9.6</td>\n",
       "      <td>NaN</td>\n",
       "    </tr>\n",
       "    <tr>\n",
       "      <td>London</td>\n",
       "      <td>NaN</td>\n",
       "      <td>-1.0</td>\n",
       "      <td>NaN</td>\n",
       "    </tr>\n",
       "    <tr>\n",
       "      <td>NYC</td>\n",
       "      <td>0.0</td>\n",
       "      <td>0.0</td>\n",
       "      <td>0.0</td>\n",
       "    </tr>\n",
       "    <tr>\n",
       "      <td>Boston</td>\n",
       "      <td>-7.0</td>\n",
       "      <td>-7.0</td>\n",
       "      <td>-7.0</td>\n",
       "    </tr>\n",
       "  </tbody>\n",
       "</table>\n",
       "</div>"
      ],
      "text/plain": [
       "        Group1  Group2  Avg\n",
       "SF        -9.2     NaN -9.2\n",
       "LA         4.0     NaN  4.0\n",
       "Peoria    -9.9     NaN -9.9\n",
       "Lyon       NaN    -8.7  NaN\n",
       "Paris      NaN    -3.0  NaN\n",
       "Bruge      NaN    -9.6  NaN\n",
       "London     NaN    -1.0  NaN\n",
       "NYC        0.0     0.0  0.0\n",
       "Boston    -7.0    -7.0 -7.0"
      ]
     },
     "execution_count": 92,
     "metadata": {},
     "output_type": "execute_result"
    }
   ],
   "source": [
    "df['Group1'] -= df.loc['NYC','Group1']\n",
    "df['Group2'] -= df.loc['NYC','Group2']\n",
    "df['Avg'] = np.nanmean(df.iloc[:,0:1],axis=1)\n",
    "df"
   ]
  },
  {
   "cell_type": "code",
   "execution_count": 99,
   "metadata": {},
   "outputs": [
    {
     "name": "stderr",
     "output_type": "stream",
     "text": [
      "/Users/parrt/opt/anaconda3/lib/python3.7/site-packages/ipykernel_launcher.py:3: RuntimeWarning: Mean of empty slice\n",
      "  This is separate from the ipykernel package so we can avoid doing imports until\n"
     ]
    },
    {
     "data": {
      "text/plain": [
       "(array([nan, 3.5, 5. ]), array([0., 7., 5.]))"
      ]
     },
     "execution_count": 99,
     "metadata": {},
     "output_type": "execute_result"
    }
   ],
   "source": [
    "a = np.array([np.nan, 3, np.nan])\n",
    "b = np.array([np.nan, 4, 5])\n",
    "np.nanmean([a,b], axis=0), np.nansum([a,b], axis=0)"
   ]
  },
  {
   "cell_type": "markdown",
   "metadata": {},
   "source": [
    "## New Impact def"
   ]
  },
  {
   "cell_type": "code",
   "execution_count": 207,
   "metadata": {},
   "outputs": [
    {
     "data": {
      "text/html": [
       "<div>\n",
       "<style scoped>\n",
       "    .dataframe tbody tr th:only-of-type {\n",
       "        vertical-align: middle;\n",
       "    }\n",
       "\n",
       "    .dataframe tbody tr th {\n",
       "        vertical-align: top;\n",
       "    }\n",
       "\n",
       "    .dataframe thead th {\n",
       "        text-align: right;\n",
       "    }\n",
       "</style>\n",
       "<table border=\"1\" class=\"dataframe\">\n",
       "  <thead>\n",
       "    <tr style=\"text-align: right;\">\n",
       "      <th></th>\n",
       "      <th>A</th>\n",
       "      <th>B</th>\n",
       "      <th>C</th>\n",
       "      <th>D</th>\n",
       "      <th>E</th>\n",
       "    </tr>\n",
       "  </thead>\n",
       "  <tbody>\n",
       "    <tr>\n",
       "      <td>A</td>\n",
       "      <td>0.0</td>\n",
       "      <td>12.0</td>\n",
       "      <td>11.0</td>\n",
       "      <td>4.0</td>\n",
       "      <td>2.0</td>\n",
       "    </tr>\n",
       "    <tr>\n",
       "      <td>B</td>\n",
       "      <td>-12.0</td>\n",
       "      <td>0.0</td>\n",
       "      <td>-1.0</td>\n",
       "      <td>-8.0</td>\n",
       "      <td>-10.0</td>\n",
       "    </tr>\n",
       "    <tr>\n",
       "      <td>C</td>\n",
       "      <td>-11.0</td>\n",
       "      <td>1.0</td>\n",
       "      <td>0.0</td>\n",
       "      <td>-7.0</td>\n",
       "      <td>-9.0</td>\n",
       "    </tr>\n",
       "    <tr>\n",
       "      <td>D</td>\n",
       "      <td>-4.0</td>\n",
       "      <td>8.0</td>\n",
       "      <td>7.0</td>\n",
       "      <td>0.0</td>\n",
       "      <td>-2.0</td>\n",
       "    </tr>\n",
       "    <tr>\n",
       "      <td>E</td>\n",
       "      <td>-2.0</td>\n",
       "      <td>10.0</td>\n",
       "      <td>9.0</td>\n",
       "      <td>2.0</td>\n",
       "      <td>0.0</td>\n",
       "    </tr>\n",
       "  </tbody>\n",
       "</table>\n",
       "</div>"
      ],
      "text/plain": [
       "      A     B     C    D     E\n",
       "A   0.0  12.0  11.0  4.0   2.0\n",
       "B -12.0   0.0  -1.0 -8.0 -10.0\n",
       "C -11.0   1.0   0.0 -7.0  -9.0\n",
       "D  -4.0   8.0   7.0  0.0  -2.0\n",
       "E  -2.0  10.0   9.0  2.0   0.0"
      ]
     },
     "execution_count": 207,
     "metadata": {},
     "output_type": "execute_result"
    }
   ],
   "source": [
    "dy = np.array([0.0,12.0,11.0,4.0,2.0])\n",
    "I = np.array([dy, dy - dy[1], dy - dy[2], dy - dy[3], dy - dy[4]])\n",
    "I = pd.DataFrame(I, columns=['A','B','C','D','E'], index=['A','B','C','D','E'])\n",
    "I"
   ]
  },
  {
   "cell_type": "code",
   "execution_count": 346,
   "metadata": {},
   "outputs": [],
   "source": [
    "def all_pairs_delta(avg_per_cat):\n",
    "    \"\"\"\n",
    "    For a vector containing the average Delta per category found\n",
    "    by merging deltas found across regions, compute the average drop/rise in y\n",
    "    if we move from all other categories. If we are talking about US state temperatures,\n",
    "    and leave on an airplane from a random state, what is expected bump or drop\n",
    "    in temperature when arriving in, say, AZ?  That is the average change in y temp from\n",
    "    all other states to AZ.\n",
    "    \n",
    "    Return array of deltas has same size as arg avg_per_cat.\n",
    "    \"\"\"\n",
    "    avg_pairwise_delta = np.full_like(avg_per_cat, fill_value=np.nan, dtype=float)\n",
    "    # first find catcodes (same as index into avg_per_cat). Find all non-NaN\n",
    "    catcodes = np.where(~np.isnan(avg_per_cat))[0]\n",
    "    ncodes = len(catcodes) # how many codes have usable data?\n",
    "#     avg_pairwise_delta = []\n",
    "    for i,k in enumerate(catcodes):\n",
    "        # Shift cat k to 0 to find relative bump up/down to others;\n",
    "        rel_to_k = avg_per_cat - avg_per_cat[k]\n",
    "        # Since not all cats are present, some of these are still NaN;\n",
    "        # don't count those nor cat k to itself\n",
    "        avg_delta_away_from_k = np.nansum(rel_to_k) / (ncodes-1)\n",
    "        avg_delta_to_k = -avg_delta_away_from_k\n",
    "#         print(\"to code\",k,rel_to_k, avg_delta_to_k)\n",
    "        avg_pairwise_delta[k] = avg_delta_to_k\n",
    "    return avg_pairwise_delta"
   ]
  },
  {
   "cell_type": "code",
   "execution_count": 314,
   "metadata": {},
   "outputs": [
    {
     "name": "stdout",
     "output_type": "stream",
     "text": [
      "to code 0 [ 0. 12. 11.  4.  2.] -7.25\n",
      "to code 1 [-12.   0.  -1.  -8. -10.] 7.75\n",
      "to code 2 [-11.   1.   0.  -7.  -9.] 6.5\n",
      "to code 3 [-4.  8.  7.  0. -2.] -2.25\n",
      "to code 4 [-2. 10.  9.  2.  0.] -4.75\n"
     ]
    },
    {
     "data": {
      "text/plain": [
       "array([-7.25,  7.75,  6.5 , -2.25, -4.75])"
      ]
     },
     "execution_count": 314,
     "metadata": {},
     "output_type": "execute_result"
    }
   ],
   "source": [
    "dy = np.array([0.0,12.0,11.0,4.0,2.0])\n",
    "all_pairs_delta(dy)"
   ]
  },
  {
   "cell_type": "code",
   "execution_count": 315,
   "metadata": {},
   "outputs": [
    {
     "name": "stdout",
     "output_type": "stream",
     "text": [
      "to code 1 [nan  0. 12. 11. nan  4.  2. nan] -7.25\n",
      "to code 2 [ nan -12.   0.  -1.  nan  -8. -10.  nan] 7.75\n",
      "to code 3 [ nan -11.   1.   0.  nan  -7.  -9.  nan] 6.5\n",
      "to code 5 [nan -4.  8.  7. nan  0. -2. nan] -2.25\n",
      "to code 6 [nan -2. 10.  9. nan  2.  0. nan] -4.75\n"
     ]
    },
    {
     "data": {
      "text/plain": [
       "array([  nan, -7.25,  7.75,  6.5 ,   nan, -2.25, -4.75,   nan])"
      ]
     },
     "execution_count": 315,
     "metadata": {},
     "output_type": "execute_result"
    }
   ],
   "source": [
    "dy = np.array([np.nan,0.0,12.0,11.0,np.nan,4.0,2.0,np.nan])\n",
    "all_pairs_delta(dy)"
   ]
  },
  {
   "cell_type": "code",
   "execution_count": 316,
   "metadata": {},
   "outputs": [
    {
     "name": "stdout",
     "output_type": "stream",
     "text": [
      "to code 0 [   0.         -158.71526582  247.76976234  679.77764299 1531.09792317\n",
      " 1875.59491819 1526.35248393 1504.44770978] -1029.4750249402107\n",
      "to code 1 [ 158.71526582    0.          406.48502816  838.49290881 1689.813189\n",
      " 2034.31018401 1685.06774975 1663.16297561] -1210.8639001674617\n",
      "to code 2 [-247.76976234 -406.48502816    0.          432.00788065 1283.32816083\n",
      " 1627.82515585 1278.58272159 1256.67794745] -746.3095822664235\n",
      "to code 3 [-679.77764299 -838.49290881 -432.00788065    0.          851.32028018\n",
      " 1195.8172752   846.57484094  824.67006679] -252.58629009351645\n",
      "to code 4 [-1531.09792317 -1689.813189   -1283.32816083  -851.32028018\n",
      "     0.           344.49699502    -4.74543924   -26.65021339] 720.3511729710527\n",
      "to code 5 [-1875.59491819 -2034.31018401 -1627.82515585 -1195.8172752\n",
      "  -344.49699502     0.          -349.24243426  -371.1472084 ] 1114.06202441707\n",
      "to code 6 [-1526.35248393 -1685.06774975 -1278.58272159  -846.57484094\n",
      "     4.74543924   349.24243426     0.           -21.90477415] 714.9278138371022\n",
      "to code 7 [-1504.44770978 -1663.16297561 -1256.67794745  -824.67006679\n",
      "    26.65021339   371.1472084     21.90477415     0.        ] 689.8937862423874\n",
      "[-1029.47502494 -1210.86390017  -746.30958227  -252.58629009\n",
      "   720.35117297  1114.06202442   714.92781384   689.89378624]\n"
     ]
    },
    {
     "data": {
      "text/plain": [
       "809.808699366903"
      ]
     },
     "execution_count": 316,
     "metadata": {},
     "output_type": "execute_result"
    }
   ],
   "source": [
    "dy = np.array([0.0, -158.7152658238447, 247.7697623395638, 679.7776429908575, 1531.0979231723556, 1875.5949181876208, 1526.352483930149, 1504.4477097847735])\n",
    "deltas = all_pairs_delta(dy)\n",
    "print(deltas)\n",
    "np.mean(np.abs(deltas))"
   ]
  },
  {
   "cell_type": "code",
   "execution_count": 317,
   "metadata": {},
   "outputs": [
    {
     "data": {
      "text/plain": [
       "array([ -900.79064682, -1059.50591265,  -653.02088448,  -221.01300383,\n",
       "         630.30727635,   974.80427136,   625.56183711,   603.65706296])"
      ]
     },
     "execution_count": 317,
     "metadata": {},
     "output_type": "execute_result"
    }
   ],
   "source": [
    "dy - np.mean(dy)"
   ]
  },
  {
   "cell_type": "code",
   "execution_count": 318,
   "metadata": {},
   "outputs": [
    {
     "data": {
      "text/plain": [
       "(27.377999999999997,\n",
       " array([ 21.582,   1.852, -27.378,  11.722,  -7.778]),\n",
       " array([48.96, 29.23,  0.  , 39.1 , 19.6 ]))"
      ]
     },
     "execution_count": 318,
     "metadata": {},
     "output_type": "execute_result"
    }
   ],
   "source": [
    "a = np.array([48.96, 29.23,  0.,   39.1,  19.6 ])\n",
    "m = np.sum(a)/(len(a)-1)\n",
    "m = np.mean(a)\n",
    "m, a-m, a-m-np.min(a-m)"
   ]
  },
  {
   "cell_type": "code",
   "execution_count": 319,
   "metadata": {},
   "outputs": [
    {
     "name": "stdout",
     "output_type": "stream",
     "text": [
      "to code 0 [  0.   -19.73 -48.96  -9.86 -29.36] 26.9775\n",
      "to code 1 [ 19.73   0.   -29.23   9.87  -9.63] 2.3149999999999995\n",
      "to code 2 [48.96 29.23  0.   39.1  19.6 ] -34.2225\n",
      "to code 3 [  9.86  -9.87 -39.1    0.   -19.5 ] 14.6525\n",
      "to code 4 [ 29.36   9.63 -19.6   19.5    0.  ] -9.722499999999998\n"
     ]
    },
    {
     "data": {
      "text/plain": [
       "array([ 26.9775,   2.315 , -34.2225,  14.6525,  -9.7225])"
      ]
     },
     "execution_count": 319,
     "metadata": {},
     "output_type": "execute_result"
    }
   ],
   "source": [
    "all_pairs_delta(a)"
   ]
  },
  {
   "cell_type": "code",
   "execution_count": 357,
   "metadata": {},
   "outputs": [
    {
     "data": {
      "text/plain": [
       "array([-30.,  30.])"
      ]
     },
     "execution_count": 357,
     "metadata": {},
     "output_type": "execute_result"
    }
   ],
   "source": [
    "a = np.array([0, 30])\n",
    "all_pairs_delta(a)"
   ]
  },
  {
   "cell_type": "code",
   "execution_count": 367,
   "metadata": {},
   "outputs": [
    {
     "data": {
      "text/plain": [
       "array([0, 1, 1, 1, 1, 1, 1, 1, 1, 1, 1, 1, 1, 1, 1, 1, 1, 1, 1, 1, 1])"
      ]
     },
     "execution_count": 367,
     "metadata": {},
     "output_type": "execute_result"
    }
   ],
   "source": [
    "a = np.array([0]+[1]*20)\n",
    "a"
   ]
  },
  {
   "cell_type": "code",
   "execution_count": 368,
   "metadata": {},
   "outputs": [
    {
     "data": {
      "text/plain": [
       "0.9523809523809523"
      ]
     },
     "execution_count": 368,
     "metadata": {},
     "output_type": "execute_result"
    }
   ],
   "source": [
    "m = np.mean(a)\n",
    "m"
   ]
  },
  {
   "cell_type": "code",
   "execution_count": 369,
   "metadata": {},
   "outputs": [
    {
     "data": {
      "text/plain": [
       "array([-0.95238095,  0.04761905,  0.04761905,  0.04761905,  0.04761905,\n",
       "        0.04761905,  0.04761905,  0.04761905,  0.04761905,  0.04761905,\n",
       "        0.04761905,  0.04761905,  0.04761905,  0.04761905,  0.04761905,\n",
       "        0.04761905,  0.04761905,  0.04761905,  0.04761905,  0.04761905,\n",
       "        0.04761905])"
      ]
     },
     "execution_count": 369,
     "metadata": {},
     "output_type": "execute_result"
    }
   ],
   "source": [
    "a-m"
   ]
  },
  {
   "cell_type": "code",
   "execution_count": 359,
   "metadata": {},
   "outputs": [
    {
     "data": {
      "text/plain": [
       "array([-1. ,  0.1,  0.1,  0.1,  0.1,  0.1,  0.1,  0.1,  0.1,  0.1,  0.1])"
      ]
     },
     "execution_count": 359,
     "metadata": {},
     "output_type": "execute_result"
    }
   ],
   "source": [
    "all_pairs_delta(a)"
   ]
  },
  {
   "cell_type": "code",
   "execution_count": 843,
   "metadata": {},
   "outputs": [],
   "source": [
    "a = np.array([0,4,6])\n",
    "b = np.array([np.nan,0,3])"
   ]
  },
  {
   "cell_type": "code",
   "execution_count": 844,
   "metadata": {},
   "outputs": [
    {
     "data": {
      "text/plain": [
       "(array([-5.,  1.,  4.]), array([nan, -3.,  3.]))"
      ]
     },
     "execution_count": 844,
     "metadata": {},
     "output_type": "execute_result"
    }
   ],
   "source": [
    "all_pairs_delta(a), all_pairs_delta(b)"
   ]
  },
  {
   "cell_type": "code",
   "execution_count": 845,
   "metadata": {},
   "outputs": [
    {
     "data": {
      "text/plain": [
       "array([-5. , -1. ,  3.5])"
      ]
     },
     "execution_count": 845,
     "metadata": {},
     "output_type": "execute_result"
    }
   ],
   "source": [
    "np.nanmean([all_pairs_delta(a), all_pairs_delta(b)], axis=0)"
   ]
  },
  {
   "cell_type": "code",
   "execution_count": 846,
   "metadata": {},
   "outputs": [
    {
     "data": {
      "text/plain": [
       "array([0. , 4. , 6.5])"
      ]
     },
     "execution_count": 846,
     "metadata": {},
     "output_type": "execute_result"
    }
   ],
   "source": [
    "v1 = np.nanmean([a,b + 4], axis=0)\n",
    "v1"
   ]
  },
  {
   "cell_type": "code",
   "execution_count": 847,
   "metadata": {},
   "outputs": [
    {
     "data": {
      "text/plain": [
       "array([0. , 3.5, 6. ])"
      ]
     },
     "execution_count": 847,
     "metadata": {},
     "output_type": "execute_result"
    }
   ],
   "source": [
    "v2 = np.nanmean([a,b - 3 + 6], axis=0)\n",
    "v2"
   ]
  },
  {
   "cell_type": "code",
   "execution_count": 849,
   "metadata": {},
   "outputs": [
    {
     "data": {
      "text/plain": [
       "array([0.  , 3.75, 6.25])"
      ]
     },
     "execution_count": 849,
     "metadata": {},
     "output_type": "execute_result"
    }
   ],
   "source": [
    "v = np.mean([v1,v2], axis=0)\n",
    "v"
   ]
  },
  {
   "cell_type": "code",
   "execution_count": 850,
   "metadata": {},
   "outputs": [
    {
     "data": {
      "text/plain": [
       "(array([ 0.  ,  0.25, -0.25]), array([  nan, -3.75, -3.25]))"
      ]
     },
     "execution_count": 850,
     "metadata": {},
     "output_type": "execute_result"
    }
   ],
   "source": [
    "a - v, b - v"
   ]
  },
  {
   "cell_type": "code",
   "execution_count": 852,
   "metadata": {},
   "outputs": [
    {
     "data": {
      "text/plain": [
       "(array([nan,  4.,  7.]), array([nan,  3.,  6.]))"
      ]
     },
     "execution_count": 852,
     "metadata": {},
     "output_type": "execute_result"
    }
   ],
   "source": [
    "b + 4, b - 3 + 6"
   ]
  },
  {
   "cell_type": "code",
   "execution_count": 855,
   "metadata": {},
   "outputs": [
    {
     "name": "stderr",
     "output_type": "stream",
     "text": [
      "/Users/parrt/opt/anaconda3/lib/python3.7/site-packages/ipykernel_launcher.py:1: RuntimeWarning: Mean of empty slice\n",
      "  \"\"\"Entry point for launching an IPython kernel.\n"
     ]
    },
    {
     "data": {
      "text/plain": [
       "array([nan, 3.5, 6.5])"
      ]
     },
     "execution_count": 855,
     "metadata": {},
     "output_type": "execute_result"
    }
   ],
   "source": [
    "np.nanmean([b + 4, b - 3 + 6], axis=0)"
   ]
  },
  {
   "cell_type": "code",
   "execution_count": 856,
   "metadata": {},
   "outputs": [],
   "source": [
    "a = np.array([4,6])\n",
    "b = np.array([0,3])"
   ]
  },
  {
   "cell_type": "code",
   "execution_count": 857,
   "metadata": {},
   "outputs": [
    {
     "data": {
      "text/plain": [
       "array([4, 7])"
      ]
     },
     "execution_count": 857,
     "metadata": {},
     "output_type": "execute_result"
    }
   ],
   "source": [
    "b - b[0] + a[0]"
   ]
  },
  {
   "cell_type": "code",
   "execution_count": 858,
   "metadata": {},
   "outputs": [
    {
     "data": {
      "text/plain": [
       "array([3, 6])"
      ]
     },
     "execution_count": 858,
     "metadata": {},
     "output_type": "execute_result"
    }
   ],
   "source": [
    "b - b[1] + a[1]"
   ]
  },
  {
   "cell_type": "code",
   "execution_count": 860,
   "metadata": {},
   "outputs": [
    {
     "data": {
      "text/plain": [
       "array([3.5, 6.5])"
      ]
     },
     "execution_count": 860,
     "metadata": {},
     "output_type": "execute_result"
    }
   ],
   "source": [
    "np.mean([b - b[0] + a[0], b - b[1] + a[1]], axis=0)"
   ]
  },
  {
   "cell_type": "code",
   "execution_count": 862,
   "metadata": {},
   "outputs": [
    {
     "data": {
      "text/plain": [
       "array([3.5, 6.5])"
      ]
     },
     "execution_count": 862,
     "metadata": {},
     "output_type": "execute_result"
    }
   ],
   "source": [
    "all = []\n",
    "for i in range(len(a)):\n",
    "    all.append(b - b[i] + a[i])\n",
    "np.mean(all, axis=0)"
   ]
  }
 ],
 "metadata": {
  "kernelspec": {
   "display_name": "Python 3",
   "language": "python",
   "name": "python3"
  },
  "language_info": {
   "codemirror_mode": {
    "name": "ipython",
    "version": 3
   },
   "file_extension": ".py",
   "mimetype": "text/x-python",
   "name": "python",
   "nbconvert_exporter": "python",
   "pygments_lexer": "ipython3",
   "version": "3.7.4"
  }
 },
 "nbformat": 4,
 "nbformat_minor": 4
}
