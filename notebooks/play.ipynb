{
 "cells": [
  {
   "cell_type": "code",
   "execution_count": 1,
   "metadata": {},
   "outputs": [],
   "source": [
    "import pandas as pd\n",
    "import numpy as np\n",
    "import matplotlib.pyplot as plt\n",
    "import os\n",
    "from pandas.api.types import is_string_dtype, is_object_dtype, is_categorical_dtype, is_bool_dtype\n",
    "import numpy as np\n",
    "import pandas as pd\n",
    "\n",
    "import statsmodels.api as sm\n",
    "from scipy.stats import spearmanr\n",
    "from sklearn.decomposition import PCA\n",
    "\n",
    "import matplotlib.pyplot as plt\n",
    "\n",
    "from collections import OrderedDict\n",
    "\n",
    "from sklearn.linear_model import LinearRegression, Lasso, LogisticRegression\n",
    "from sklearn.ensemble import RandomForestRegressor\n",
    "from sklearn.ensemble import GradientBoostingRegressor\n",
    "from sklearn.utils import resample\n",
    "from sklearn.model_selection import train_test_split\n",
    "from timeit import default_timer as timer\n",
    "from sklearn.metrics import mean_absolute_error, mean_squared_error, r2_score\n",
    "from sklearn.model_selection import GridSearchCV\n",
    "from sklearn.datasets import load_boston\n",
    "from pandas.api.types import is_string_dtype, is_object_dtype, is_categorical_dtype, is_bool_dtype\n",
    "from sklearn.preprocessing import StandardScaler\n",
    "from sklearn.preprocessing import PolynomialFeatures\n",
    "from sklearn import linear_model\n"
   ]
  },
  {
   "cell_type": "code",
   "execution_count": null,
   "metadata": {},
   "outputs": [],
   "source": []
  },
  {
   "cell_type": "code",
   "execution_count": 63,
   "metadata": {},
   "outputs": [
    {
     "ename": "FileNotFoundError",
     "evalue": "[Errno 2] File b'/tmp/t.csv' does not exist: b'/tmp/t.csv'",
     "output_type": "error",
     "traceback": [
      "\u001b[0;31m---------------------------------------------------------------------------\u001b[0m",
      "\u001b[0;31mFileNotFoundError\u001b[0m                         Traceback (most recent call last)",
      "\u001b[0;32m<ipython-input-63-7d3ecea3b778>\u001b[0m in \u001b[0;36m<module>\u001b[0;34m\u001b[0m\n\u001b[0;32m----> 1\u001b[0;31m \u001b[0mdf\u001b[0m \u001b[0;34m=\u001b[0m \u001b[0mpd\u001b[0m\u001b[0;34m.\u001b[0m\u001b[0mread_csv\u001b[0m\u001b[0;34m(\u001b[0m\u001b[0;34m\"/tmp/t.csv\"\u001b[0m\u001b[0;34m)\u001b[0m\u001b[0;34m\u001b[0m\u001b[0;34m\u001b[0m\u001b[0m\n\u001b[0m\u001b[1;32m      2\u001b[0m \u001b[0mdf\u001b[0m\u001b[0;34m.\u001b[0m\u001b[0msort_values\u001b[0m\u001b[0;34m(\u001b[0m\u001b[0;34m'Importance'\u001b[0m\u001b[0;34m,\u001b[0m \u001b[0mascending\u001b[0m\u001b[0;34m=\u001b[0m\u001b[0;32mFalse\u001b[0m\u001b[0;34m)\u001b[0m\u001b[0;34m\u001b[0m\u001b[0;34m\u001b[0m\u001b[0m\n",
      "\u001b[0;32m~/opt/anaconda3/lib/python3.7/site-packages/pandas/io/parsers.py\u001b[0m in \u001b[0;36mparser_f\u001b[0;34m(filepath_or_buffer, sep, delimiter, header, names, index_col, usecols, squeeze, prefix, mangle_dupe_cols, dtype, engine, converters, true_values, false_values, skipinitialspace, skiprows, skipfooter, nrows, na_values, keep_default_na, na_filter, verbose, skip_blank_lines, parse_dates, infer_datetime_format, keep_date_col, date_parser, dayfirst, cache_dates, iterator, chunksize, compression, thousands, decimal, lineterminator, quotechar, quoting, doublequote, escapechar, comment, encoding, dialect, error_bad_lines, warn_bad_lines, delim_whitespace, low_memory, memory_map, float_precision)\u001b[0m\n\u001b[1;32m    683\u001b[0m         )\n\u001b[1;32m    684\u001b[0m \u001b[0;34m\u001b[0m\u001b[0m\n\u001b[0;32m--> 685\u001b[0;31m         \u001b[0;32mreturn\u001b[0m \u001b[0m_read\u001b[0m\u001b[0;34m(\u001b[0m\u001b[0mfilepath_or_buffer\u001b[0m\u001b[0;34m,\u001b[0m \u001b[0mkwds\u001b[0m\u001b[0;34m)\u001b[0m\u001b[0;34m\u001b[0m\u001b[0;34m\u001b[0m\u001b[0m\n\u001b[0m\u001b[1;32m    686\u001b[0m \u001b[0;34m\u001b[0m\u001b[0m\n\u001b[1;32m    687\u001b[0m     \u001b[0mparser_f\u001b[0m\u001b[0;34m.\u001b[0m\u001b[0m__name__\u001b[0m \u001b[0;34m=\u001b[0m \u001b[0mname\u001b[0m\u001b[0;34m\u001b[0m\u001b[0;34m\u001b[0m\u001b[0m\n",
      "\u001b[0;32m~/opt/anaconda3/lib/python3.7/site-packages/pandas/io/parsers.py\u001b[0m in \u001b[0;36m_read\u001b[0;34m(filepath_or_buffer, kwds)\u001b[0m\n\u001b[1;32m    455\u001b[0m \u001b[0;34m\u001b[0m\u001b[0m\n\u001b[1;32m    456\u001b[0m     \u001b[0;31m# Create the parser.\u001b[0m\u001b[0;34m\u001b[0m\u001b[0;34m\u001b[0m\u001b[0;34m\u001b[0m\u001b[0m\n\u001b[0;32m--> 457\u001b[0;31m     \u001b[0mparser\u001b[0m \u001b[0;34m=\u001b[0m \u001b[0mTextFileReader\u001b[0m\u001b[0;34m(\u001b[0m\u001b[0mfp_or_buf\u001b[0m\u001b[0;34m,\u001b[0m \u001b[0;34m**\u001b[0m\u001b[0mkwds\u001b[0m\u001b[0;34m)\u001b[0m\u001b[0;34m\u001b[0m\u001b[0;34m\u001b[0m\u001b[0m\n\u001b[0m\u001b[1;32m    458\u001b[0m \u001b[0;34m\u001b[0m\u001b[0m\n\u001b[1;32m    459\u001b[0m     \u001b[0;32mif\u001b[0m \u001b[0mchunksize\u001b[0m \u001b[0;32mor\u001b[0m \u001b[0miterator\u001b[0m\u001b[0;34m:\u001b[0m\u001b[0;34m\u001b[0m\u001b[0;34m\u001b[0m\u001b[0m\n",
      "\u001b[0;32m~/opt/anaconda3/lib/python3.7/site-packages/pandas/io/parsers.py\u001b[0m in \u001b[0;36m__init__\u001b[0;34m(self, f, engine, **kwds)\u001b[0m\n\u001b[1;32m    893\u001b[0m             \u001b[0mself\u001b[0m\u001b[0;34m.\u001b[0m\u001b[0moptions\u001b[0m\u001b[0;34m[\u001b[0m\u001b[0;34m\"has_index_names\"\u001b[0m\u001b[0;34m]\u001b[0m \u001b[0;34m=\u001b[0m \u001b[0mkwds\u001b[0m\u001b[0;34m[\u001b[0m\u001b[0;34m\"has_index_names\"\u001b[0m\u001b[0;34m]\u001b[0m\u001b[0;34m\u001b[0m\u001b[0;34m\u001b[0m\u001b[0m\n\u001b[1;32m    894\u001b[0m \u001b[0;34m\u001b[0m\u001b[0m\n\u001b[0;32m--> 895\u001b[0;31m         \u001b[0mself\u001b[0m\u001b[0;34m.\u001b[0m\u001b[0m_make_engine\u001b[0m\u001b[0;34m(\u001b[0m\u001b[0mself\u001b[0m\u001b[0;34m.\u001b[0m\u001b[0mengine\u001b[0m\u001b[0;34m)\u001b[0m\u001b[0;34m\u001b[0m\u001b[0;34m\u001b[0m\u001b[0m\n\u001b[0m\u001b[1;32m    896\u001b[0m \u001b[0;34m\u001b[0m\u001b[0m\n\u001b[1;32m    897\u001b[0m     \u001b[0;32mdef\u001b[0m \u001b[0mclose\u001b[0m\u001b[0;34m(\u001b[0m\u001b[0mself\u001b[0m\u001b[0;34m)\u001b[0m\u001b[0;34m:\u001b[0m\u001b[0;34m\u001b[0m\u001b[0;34m\u001b[0m\u001b[0m\n",
      "\u001b[0;32m~/opt/anaconda3/lib/python3.7/site-packages/pandas/io/parsers.py\u001b[0m in \u001b[0;36m_make_engine\u001b[0;34m(self, engine)\u001b[0m\n\u001b[1;32m   1133\u001b[0m     \u001b[0;32mdef\u001b[0m \u001b[0m_make_engine\u001b[0m\u001b[0;34m(\u001b[0m\u001b[0mself\u001b[0m\u001b[0;34m,\u001b[0m \u001b[0mengine\u001b[0m\u001b[0;34m=\u001b[0m\u001b[0;34m\"c\"\u001b[0m\u001b[0;34m)\u001b[0m\u001b[0;34m:\u001b[0m\u001b[0;34m\u001b[0m\u001b[0;34m\u001b[0m\u001b[0m\n\u001b[1;32m   1134\u001b[0m         \u001b[0;32mif\u001b[0m \u001b[0mengine\u001b[0m \u001b[0;34m==\u001b[0m \u001b[0;34m\"c\"\u001b[0m\u001b[0;34m:\u001b[0m\u001b[0;34m\u001b[0m\u001b[0;34m\u001b[0m\u001b[0m\n\u001b[0;32m-> 1135\u001b[0;31m             \u001b[0mself\u001b[0m\u001b[0;34m.\u001b[0m\u001b[0m_engine\u001b[0m \u001b[0;34m=\u001b[0m \u001b[0mCParserWrapper\u001b[0m\u001b[0;34m(\u001b[0m\u001b[0mself\u001b[0m\u001b[0;34m.\u001b[0m\u001b[0mf\u001b[0m\u001b[0;34m,\u001b[0m \u001b[0;34m**\u001b[0m\u001b[0mself\u001b[0m\u001b[0;34m.\u001b[0m\u001b[0moptions\u001b[0m\u001b[0;34m)\u001b[0m\u001b[0;34m\u001b[0m\u001b[0;34m\u001b[0m\u001b[0m\n\u001b[0m\u001b[1;32m   1136\u001b[0m         \u001b[0;32melse\u001b[0m\u001b[0;34m:\u001b[0m\u001b[0;34m\u001b[0m\u001b[0;34m\u001b[0m\u001b[0m\n\u001b[1;32m   1137\u001b[0m             \u001b[0;32mif\u001b[0m \u001b[0mengine\u001b[0m \u001b[0;34m==\u001b[0m \u001b[0;34m\"python\"\u001b[0m\u001b[0;34m:\u001b[0m\u001b[0;34m\u001b[0m\u001b[0;34m\u001b[0m\u001b[0m\n",
      "\u001b[0;32m~/opt/anaconda3/lib/python3.7/site-packages/pandas/io/parsers.py\u001b[0m in \u001b[0;36m__init__\u001b[0;34m(self, src, **kwds)\u001b[0m\n\u001b[1;32m   1915\u001b[0m         \u001b[0mkwds\u001b[0m\u001b[0;34m[\u001b[0m\u001b[0;34m\"usecols\"\u001b[0m\u001b[0;34m]\u001b[0m \u001b[0;34m=\u001b[0m \u001b[0mself\u001b[0m\u001b[0;34m.\u001b[0m\u001b[0musecols\u001b[0m\u001b[0;34m\u001b[0m\u001b[0;34m\u001b[0m\u001b[0m\n\u001b[1;32m   1916\u001b[0m \u001b[0;34m\u001b[0m\u001b[0m\n\u001b[0;32m-> 1917\u001b[0;31m         \u001b[0mself\u001b[0m\u001b[0;34m.\u001b[0m\u001b[0m_reader\u001b[0m \u001b[0;34m=\u001b[0m \u001b[0mparsers\u001b[0m\u001b[0;34m.\u001b[0m\u001b[0mTextReader\u001b[0m\u001b[0;34m(\u001b[0m\u001b[0msrc\u001b[0m\u001b[0;34m,\u001b[0m \u001b[0;34m**\u001b[0m\u001b[0mkwds\u001b[0m\u001b[0;34m)\u001b[0m\u001b[0;34m\u001b[0m\u001b[0;34m\u001b[0m\u001b[0m\n\u001b[0m\u001b[1;32m   1918\u001b[0m         \u001b[0mself\u001b[0m\u001b[0;34m.\u001b[0m\u001b[0munnamed_cols\u001b[0m \u001b[0;34m=\u001b[0m \u001b[0mself\u001b[0m\u001b[0;34m.\u001b[0m\u001b[0m_reader\u001b[0m\u001b[0;34m.\u001b[0m\u001b[0munnamed_cols\u001b[0m\u001b[0;34m\u001b[0m\u001b[0;34m\u001b[0m\u001b[0m\n\u001b[1;32m   1919\u001b[0m \u001b[0;34m\u001b[0m\u001b[0m\n",
      "\u001b[0;32mpandas/_libs/parsers.pyx\u001b[0m in \u001b[0;36mpandas._libs.parsers.TextReader.__cinit__\u001b[0;34m()\u001b[0m\n",
      "\u001b[0;32mpandas/_libs/parsers.pyx\u001b[0m in \u001b[0;36mpandas._libs.parsers.TextReader._setup_parser_source\u001b[0;34m()\u001b[0m\n",
      "\u001b[0;31mFileNotFoundError\u001b[0m: [Errno 2] File b'/tmp/t.csv' does not exist: b'/tmp/t.csv'"
     ]
    }
   ],
   "source": [
    "df = pd.read_csv(\"/tmp/t.csv\")\n",
    "df.sort_values('Importance', ascending=False)"
   ]
  },
  {
   "cell_type": "code",
   "execution_count": 149,
   "metadata": {},
   "outputs": [
    {
     "data": {
      "text/html": [
       "<div>\n",
       "<style scoped>\n",
       "    .dataframe tbody tr th:only-of-type {\n",
       "        vertical-align: middle;\n",
       "    }\n",
       "\n",
       "    .dataframe tbody tr th {\n",
       "        vertical-align: top;\n",
       "    }\n",
       "\n",
       "    .dataframe thead th {\n",
       "        text-align: right;\n",
       "    }\n",
       "</style>\n",
       "<table border=\"1\" class=\"dataframe\">\n",
       "  <thead>\n",
       "    <tr style=\"text-align: right;\">\n",
       "      <th></th>\n",
       "      <th>Feature</th>\n",
       "      <th>Rank</th>\n",
       "      <th>Importance</th>\n",
       "      <th>Sigma</th>\n",
       "      <th>clipped</th>\n",
       "    </tr>\n",
       "  </thead>\n",
       "  <tbody>\n",
       "    <tr>\n",
       "      <td>2</td>\n",
       "      <td>ModelID</td>\n",
       "      <td>10.013405</td>\n",
       "      <td>0.165620</td>\n",
       "      <td>0.016540</td>\n",
       "      <td>0.016540</td>\n",
       "    </tr>\n",
       "    <tr>\n",
       "      <td>6</td>\n",
       "      <td>ProductSize</td>\n",
       "      <td>9.710048</td>\n",
       "      <td>0.078312</td>\n",
       "      <td>0.008065</td>\n",
       "      <td>0.008065</td>\n",
       "    </tr>\n",
       "    <tr>\n",
       "      <td>1</td>\n",
       "      <td>YearMade</td>\n",
       "      <td>3.968520</td>\n",
       "      <td>0.304781</td>\n",
       "      <td>0.076800</td>\n",
       "      <td>0.076800</td>\n",
       "    </tr>\n",
       "    <tr>\n",
       "      <td>8</td>\n",
       "      <td>saledayofweek</td>\n",
       "      <td>3.431516</td>\n",
       "      <td>0.025268</td>\n",
       "      <td>0.007364</td>\n",
       "      <td>0.007364</td>\n",
       "    </tr>\n",
       "    <tr>\n",
       "      <td>9</td>\n",
       "      <td>salemonth</td>\n",
       "      <td>1.988941</td>\n",
       "      <td>0.015781</td>\n",
       "      <td>0.007935</td>\n",
       "      <td>0.007935</td>\n",
       "    </tr>\n",
       "    <tr>\n",
       "      <td>0</td>\n",
       "      <td>age</td>\n",
       "      <td>1.812289</td>\n",
       "      <td>0.194837</td>\n",
       "      <td>0.107509</td>\n",
       "      <td>0.107509</td>\n",
       "    </tr>\n",
       "    <tr>\n",
       "      <td>5</td>\n",
       "      <td>saledayofyear</td>\n",
       "      <td>1.736897</td>\n",
       "      <td>0.044144</td>\n",
       "      <td>0.025415</td>\n",
       "      <td>0.025415</td>\n",
       "    </tr>\n",
       "    <tr>\n",
       "      <td>4</td>\n",
       "      <td>auctioneerID</td>\n",
       "      <td>1.571823</td>\n",
       "      <td>0.042153</td>\n",
       "      <td>0.026818</td>\n",
       "      <td>0.026818</td>\n",
       "    </tr>\n",
       "    <tr>\n",
       "      <td>10</td>\n",
       "      <td>saleday</td>\n",
       "      <td>1.361876</td>\n",
       "      <td>0.010579</td>\n",
       "      <td>0.007768</td>\n",
       "      <td>0.007768</td>\n",
       "    </tr>\n",
       "    <tr>\n",
       "      <td>3</td>\n",
       "      <td>MachineHours</td>\n",
       "      <td>1.304369</td>\n",
       "      <td>0.051107</td>\n",
       "      <td>0.039181</td>\n",
       "      <td>0.039181</td>\n",
       "    </tr>\n",
       "    <tr>\n",
       "      <td>7</td>\n",
       "      <td>AC</td>\n",
       "      <td>0.052754</td>\n",
       "      <td>0.052754</td>\n",
       "      <td>0.006302</td>\n",
       "      <td>1.000000</td>\n",
       "    </tr>\n",
       "    <tr>\n",
       "      <td>11</td>\n",
       "      <td>datasource</td>\n",
       "      <td>0.014664</td>\n",
       "      <td>0.014664</td>\n",
       "      <td>0.005071</td>\n",
       "      <td>1.000000</td>\n",
       "    </tr>\n",
       "    <tr>\n",
       "      <td>12</td>\n",
       "      <td>YearMade_na</td>\n",
       "      <td>0.000000</td>\n",
       "      <td>0.000000</td>\n",
       "      <td>0.000000</td>\n",
       "      <td>1.000000</td>\n",
       "    </tr>\n",
       "    <tr>\n",
       "      <td>13</td>\n",
       "      <td>MachineHours_na</td>\n",
       "      <td>0.000000</td>\n",
       "      <td>0.000000</td>\n",
       "      <td>0.000000</td>\n",
       "      <td>1.000000</td>\n",
       "    </tr>\n",
       "    <tr>\n",
       "      <td>14</td>\n",
       "      <td>saleyear</td>\n",
       "      <td>0.000000</td>\n",
       "      <td>0.000000</td>\n",
       "      <td>0.000000</td>\n",
       "      <td>1.000000</td>\n",
       "    </tr>\n",
       "  </tbody>\n",
       "</table>\n",
       "</div>"
      ],
      "text/plain": [
       "            Feature       Rank  Importance     Sigma   clipped\n",
       "2           ModelID  10.013405    0.165620  0.016540  0.016540\n",
       "6       ProductSize   9.710048    0.078312  0.008065  0.008065\n",
       "1          YearMade   3.968520    0.304781  0.076800  0.076800\n",
       "8     saledayofweek   3.431516    0.025268  0.007364  0.007364\n",
       "9         salemonth   1.988941    0.015781  0.007935  0.007935\n",
       "0               age   1.812289    0.194837  0.107509  0.107509\n",
       "5     saledayofyear   1.736897    0.044144  0.025415  0.025415\n",
       "4      auctioneerID   1.571823    0.042153  0.026818  0.026818\n",
       "10          saleday   1.361876    0.010579  0.007768  0.007768\n",
       "3      MachineHours   1.304369    0.051107  0.039181  0.039181\n",
       "7                AC   0.052754    0.052754  0.006302  1.000000\n",
       "11       datasource   0.014664    0.014664  0.005071  1.000000\n",
       "12      YearMade_na   0.000000    0.000000  0.000000  1.000000\n",
       "13  MachineHours_na   0.000000    0.000000  0.000000  1.000000\n",
       "14         saleyear   0.000000    0.000000  0.000000  1.000000"
      ]
     },
     "execution_count": 149,
     "metadata": {},
     "output_type": "execute_result"
    }
   ],
   "source": [
    "R = df.copy()\n",
    "R['clipped'] = np.where(R['Sigma']<0.007, 1, R['Sigma'])\n",
    "R['Rank'] = R['Importance'] / R['clipped']\n",
    "R.sort_values('Rank',ascending=False)"
   ]
  },
  {
   "cell_type": "code",
   "execution_count": 146,
   "metadata": {},
   "outputs": [
    {
     "data": {
      "text/plain": [
       "(0.022317773175551302, 0.02996326640295244)"
      ]
     },
     "execution_count": 146,
     "metadata": {},
     "output_type": "execute_result"
    }
   ],
   "source": [
    "np.mean(df['Sigma']), np.std(df['Sigma'])"
   ]
  },
  {
   "cell_type": "code",
   "execution_count": 191,
   "metadata": {},
   "outputs": [
    {
     "data": {
      "text/plain": [
       "array([[ 0., nan,  6.],\n",
       "       [ 4.,  0.,  0.],\n",
       "       [ 2.,  3.,  8.],\n",
       "       [nan,  5., nan]])"
      ]
     },
     "execution_count": 191,
     "metadata": {},
     "output_type": "execute_result"
    }
   ],
   "source": [
    "h = np.array([[0,4,2,np.nan],\n",
    "              [np.nan,0,3,5],\n",
    "              [6,0,8,np.nan]])\n",
    "h = h.T\n",
    "h"
   ]
  },
  {
   "cell_type": "code",
   "execution_count": null,
   "metadata": {},
   "outputs": [],
   "source": [
    "h = np.array([[1,0,np.nan,np.nan],\n",
    "              [0,4,2,np.nan],\n",
    "              [np.nan,0,3,5],\n",
    "              [6,0,8,np.nan],\n",
    "              [1,np.nan,np.nan,0]])\n",
    "h = h.T\n",
    "h\n",
    "\n",
    "r = np.array([1,0,1,1,3]) # relative to this row"
   ]
  },
  {
   "cell_type": "code",
   "execution_count": 239,
   "metadata": {},
   "outputs": [
    {
     "data": {
      "text/plain": [
       "array([[ 1., nan,  6.],\n",
       "       [ 0.,  0.,  0.],\n",
       "       [nan,  3.,  8.],\n",
       "       [nan,  5., nan]])"
      ]
     },
     "execution_count": 239,
     "metadata": {},
     "output_type": "execute_result"
    }
   ],
   "source": [
    "h[:,np.where(r==1)[0]] # columns relative to 1"
   ]
  },
  {
   "cell_type": "code",
   "execution_count": 240,
   "metadata": {},
   "outputs": [
    {
     "data": {
      "text/plain": [
       "array([ 7.,  0., 11.,  5.])"
      ]
     },
     "execution_count": 240,
     "metadata": {},
     "output_type": "execute_result"
    }
   ],
   "source": [
    "s = np.nansum(h[:,np.where(r==1)[0]], axis=1)\n",
    "s"
   ]
  },
  {
   "cell_type": "code",
   "execution_count": 241,
   "metadata": {},
   "outputs": [
    {
     "data": {
      "text/plain": [
       "array([[1, 0, 1],\n",
       "       [1, 1, 1],\n",
       "       [0, 1, 1],\n",
       "       [0, 1, 0]])"
      ]
     },
     "execution_count": 241,
     "metadata": {},
     "output_type": "execute_result"
    }
   ],
   "source": [
    "c = (~np.isnan(h[:,np.where(r==1)[0]])).astype(int)\n",
    "c"
   ]
  },
  {
   "cell_type": "code",
   "execution_count": 242,
   "metadata": {},
   "outputs": [
    {
     "data": {
      "text/plain": [
       "array([2, 0, 2, 1])"
      ]
     },
     "execution_count": 242,
     "metadata": {},
     "output_type": "execute_result"
    }
   ],
   "source": [
    "c = np.sum(c, axis=1) # can ignore element at current relative pos==1\n",
    "c[1] = 0\n",
    "c"
   ]
  },
  {
   "cell_type": "code",
   "execution_count": 243,
   "metadata": {},
   "outputs": [
    {
     "name": "stderr",
     "output_type": "stream",
     "text": [
      "/Users/parrt/opt/anaconda3/lib/python3.7/site-packages/ipykernel_launcher.py:1: RuntimeWarning: invalid value encountered in true_divide\n",
      "  \"\"\"Entry point for launching an IPython kernel.\n"
     ]
    },
    {
     "data": {
      "text/plain": [
       "array([3.5, nan, 5.5, 5. ])"
      ]
     },
     "execution_count": 243,
     "metadata": {},
     "output_type": "execute_result"
    }
   ],
   "source": [
    "s/c"
   ]
  },
  {
   "cell_type": "code",
   "execution_count": 424,
   "metadata": {},
   "outputs": [
    {
     "name": "stdout",
     "output_type": "stream",
     "text": [
      "cat 0 relative to 3885.0 for [[ 0.]\n",
      " [ 4.]\n",
      " [ 2.]\n",
      " [nan]]\n",
      "count [0 1 1 0]\n",
      "sum [0. 4. 2. 0.]\n",
      "cat 1 relative to 974.0 for [[ 1. nan  6.]\n",
      " [ 0.  0.  0.]\n",
      " [nan  3.  8.]\n",
      " [nan  5. nan]]\n",
      "count [2 0 2 1]\n",
      "sum [ 7.  0. 11.  5.]\n",
      "cat 3 relative to 1222.0 for [[ 1.]\n",
      " [nan]\n",
      " [nan]\n",
      " [ 0.]]\n",
      "count [1 0 0 0]\n",
      "sum [1. 0. 0. 0.]\n",
      "\n",
      "sums\n",
      " [[ 0.  7.  1.]\n",
      " [ 4.  0.  0.]\n",
      " [ 2. 11.  0.]\n",
      " [ 0.  5.  0.]]\n",
      "counts\n",
      " [[0 2 1]\n",
      " [1 0 0]\n",
      " [1 2 0]\n",
      " [0 1 0]]\n",
      "uniq r= [0 1 3]\n"
     ]
    },
    {
     "name": "stderr",
     "output_type": "stream",
     "text": [
      "/Users/parrt/opt/anaconda3/lib/python3.7/site-packages/ipykernel_launcher.py:11: RuntimeWarning: invalid value encountered in greater\n",
      "  # This is added back by InteractiveShellApp.init_path()\n"
     ]
    }
   ],
   "source": [
    "ncats=h.shape[0]\n",
    "nleaves=h.shape[1]\n",
    "catcodes=[0,1,2,3]\n",
    "sums = []\n",
    "counts = []\n",
    "# result = np.zeros(shape=(ncats,))\n",
    "for i in sorted(np.unique(r)):\n",
    "    print(\"cat\",i,\"relative to\", result[i], \"for\", h[:,np.where(r==i)[0]])\n",
    "    s = np.nansum(h[:,np.where(r==i)[0]], axis=1)\n",
    "    s[i] = 0.0\n",
    "    c = (h[:,np.where(r==i)[0]]>0).astype(int)\n",
    "    c = np.sum(c, axis=1) # can ignore element at current relative pos==i\n",
    "    counts.append(c)\n",
    "    sums.append(s)\n",
    "    print(\"count\",c)\n",
    "    print(\"sum\",s)\n",
    "#     print(\"avg\",s/c)\n",
    "    result += s\n",
    "print()\n",
    "print(\"sums\\n\", np.array(sums).T)\n",
    "print(\"counts\\n\",np.array(counts).T)\n",
    "print(\"uniq r=\",np.unique(r))"
   ]
  },
  {
   "cell_type": "code",
   "execution_count": 425,
   "metadata": {},
   "outputs": [
    {
     "name": "stderr",
     "output_type": "stream",
     "text": [
      "/Users/parrt/opt/anaconda3/lib/python3.7/site-packages/ipykernel_launcher.py:1: RuntimeWarning: invalid value encountered in true_divide\n",
      "  \"\"\"Entry point for launching an IPython kernel.\n"
     ]
    },
    {
     "data": {
      "text/plain": [
       "array([[nan, 3.5, 1. ],\n",
       "       [4. , nan, nan],\n",
       "       [2. , 5.5, nan],\n",
       "       [nan, 5. , nan]])"
      ]
     },
     "execution_count": 425,
     "metadata": {},
     "output_type": "execute_result"
    }
   ],
   "source": [
    "a = (np.array(sums)/np.array(counts)).T\n",
    "#a[np.isnan(a)] = 0\n",
    "a"
   ]
  },
  {
   "cell_type": "code",
   "execution_count": 426,
   "metadata": {},
   "outputs": [
    {
     "data": {
      "text/plain": [
       "array([nan,  4.,  2., nan])"
      ]
     },
     "execution_count": 426,
     "metadata": {},
     "output_type": "execute_result"
    }
   ],
   "source": [
    "uniq_r = sorted(np.unique(r))\n",
    "x = a[:,0] # init with first col\n",
    "x"
   ]
  },
  {
   "cell_type": "code",
   "execution_count": 419,
   "metadata": {},
   "outputs": [
    {
     "data": {
      "text/plain": [
       "array([7.5, nan, 9.5, 9. ])"
      ]
     },
     "execution_count": 419,
     "metadata": {},
     "output_type": "execute_result"
    }
   ],
   "source": [
    "adjusted_vec = x[uniq_r[1]] + a[:,1]\n",
    "#adjusted_vec[uniq_r[1]] = 0\n",
    "adjusted_vec"
   ]
  },
  {
   "cell_type": "code",
   "execution_count": 420,
   "metadata": {},
   "outputs": [
    {
     "data": {
      "text/plain": [
       "array([ 7.5,  4. , 11.5,  9. ])"
      ]
     },
     "execution_count": 420,
     "metadata": {},
     "output_type": "execute_result"
    }
   ],
   "source": [
    "x = np.where(np.isnan(x), 0, x) + np.where(np.isnan(adjusted_vec), 0, adjusted_vec)\n",
    "x"
   ]
  },
  {
   "cell_type": "code",
   "execution_count": 421,
   "metadata": {},
   "outputs": [
    {
     "data": {
      "text/plain": [
       "array([10., nan, nan, nan])"
      ]
     },
     "execution_count": 421,
     "metadata": {},
     "output_type": "execute_result"
    }
   ],
   "source": [
    "adjusted_vec = x[uniq_r[2]] + a[:,2]\n",
    "#adjusted_vec[uniq_r[2]] = 0\n",
    "adjusted_vec"
   ]
  },
  {
   "cell_type": "code",
   "execution_count": 422,
   "metadata": {},
   "outputs": [
    {
     "data": {
      "text/plain": [
       "array([17.5,  4. , 11.5,  9. ])"
      ]
     },
     "execution_count": 422,
     "metadata": {},
     "output_type": "execute_result"
    }
   ],
   "source": [
    "x = np.where(np.isnan(x), 0, x) + np.where(np.isnan(adjusted_vec), 0, adjusted_vec)\n",
    "x"
   ]
  },
  {
   "cell_type": "code",
   "execution_count": 432,
   "metadata": {},
   "outputs": [
    {
     "name": "stdout",
     "output_type": "stream",
     "text": [
      "0 : [nan  4.  2. nan]\n",
      "1 : [7.5 nan 9.5 9. ] x = [ 7.5  4.  11.5  9. ]\n",
      "3 : [10. nan nan nan] x = [17.5  4.  11.5  9. ]\n"
     ]
    },
    {
     "name": "stderr",
     "output_type": "stream",
     "text": [
      "/Users/parrt/opt/anaconda3/lib/python3.7/site-packages/ipykernel_launcher.py:1: RuntimeWarning: invalid value encountered in true_divide\n",
      "  \"\"\"Entry point for launching an IPython kernel.\n"
     ]
    },
    {
     "data": {
      "text/plain": [
       "array([17.5,  4. , 11.5,  9. ])"
      ]
     },
     "execution_count": 432,
     "metadata": {},
     "output_type": "execute_result"
    }
   ],
   "source": [
    "a = (np.array(sums)/np.array(counts)).T\n",
    "uniq_r = sorted(np.unique(r))\n",
    "x = a[:,uniq_r[0]] # init with first col\n",
    "print(uniq_r[0],\":\",x)\n",
    "for i in range(1,len(uniq_r)):\n",
    "    adjusted_vec = x[uniq_r[i]] + a[:,i]\n",
    "    x = np.where(np.isnan(x), 0, x) + np.where(np.isnan(adjusted_vec), 0, adjusted_vec)\n",
    "    print(uniq_r[i],\":\",adjusted_vec,\"x =\",x)\n",
    "x"
   ]
  },
  {
   "cell_type": "code",
   "execution_count": 452,
   "metadata": {},
   "outputs": [],
   "source": [
    "def avg_values_at_cat(leaf_histos, min_cats):\n",
    "    sums = []\n",
    "    counts = []\n",
    "    # result = np.zeros(shape=(ncats,))\n",
    "    for i in sorted(np.unique(min_cats)):\n",
    "        s = np.nansum(leaf_histos[:, np.where(min_cats == i)[0]], axis=1)\n",
    "#        s[i] = 0.0\n",
    "        c = (leaf_histos[:, np.where(min_cats == i)[0]] > 0).astype(int)\n",
    "        c = np.sum(c, axis=1)  # can ignore element at current relative pos==i\n",
    "        counts.append(c)\n",
    "        sums.append(s)\n",
    "        # print(\"count\", c)\n",
    "        # print(\"sum\", s)\n",
    "        #     print(\"avg\",s/c)\n",
    "    print()\n",
    "    print(\"list sums\",sums)\n",
    "    print(\"list counts\", counts)\n",
    "    print(\"sums\\n\", np.array(sums).T)\n",
    "    print(\"counts\\n\", np.array(counts).T)\n",
    "    print(\"uniq r=\", np.unique(min_cats))\n",
    "    uniq_min_cats = sorted(np.unique(min_cats))\n",
    "#    a = (np.array(sums)/np.array(counts)).T\n",
    "    a = [sums[i]/counts[i] for i in range(len(uniq_min_cats))]\n",
    "    x = a[uniq_min_cats[0]] # init with first col\n",
    "    print(uniq_min_cats[0],\":\",x)\n",
    "    for i in range(1,len(uniq_min_cats)):\n",
    "        adjusted_vec = x[uniq_min_cats[i]] + a[i]\n",
    "        x = np.where(np.isnan(x), 0, x) + np.where(np.isnan(adjusted_vec), 0, adjusted_vec)\n",
    "        print(uniq_min_cats[i],\":\",adjusted_vec,\"x =\",x)\n",
    "    print(x)\n",
    "    return x"
   ]
  },
  {
   "cell_type": "code",
   "execution_count": 453,
   "metadata": {},
   "outputs": [
    {
     "name": "stdout",
     "output_type": "stream",
     "text": [
      "[[ 1.  0. nan  6.  1.]\n",
      " [ 0.  4.  0.  0. nan]\n",
      " [nan  2.  3.  8. nan]\n",
      " [nan nan  5. nan  0.]]\n",
      "\n",
      "list sums [array([0., 4., 2., 0.]), array([ 7.,  0., 11.,  5.]), array([1., 0., 0., 0.])]\n",
      "list counts [array([0, 1, 1, 0]), array([2, 0, 2, 1]), array([1, 0, 0, 0])]\n",
      "sums\n",
      " [[ 0.  7.  1.]\n",
      " [ 4.  0.  0.]\n",
      " [ 2. 11.  0.]\n",
      " [ 0.  5.  0.]]\n",
      "counts\n",
      " [[0 2 1]\n",
      " [1 0 0]\n",
      " [1 2 0]\n",
      " [0 1 0]]\n",
      "uniq r= [0 1 3]\n",
      "0 : [nan  4.  2. nan]\n",
      "1 : [7.5 nan 9.5 9. ] x = [ 7.5  4.  11.5  9. ]\n",
      "3 : [10. nan nan nan] x = [17.5  4.  11.5  9. ]\n",
      "[17.5  4.  11.5  9. ]\n"
     ]
    },
    {
     "name": "stderr",
     "output_type": "stream",
     "text": [
      "/Users/parrt/opt/anaconda3/lib/python3.7/site-packages/ipykernel_launcher.py:8: RuntimeWarning: invalid value encountered in greater\n",
      "  \n",
      "/Users/parrt/opt/anaconda3/lib/python3.7/site-packages/ipykernel_launcher.py:23: RuntimeWarning: invalid value encountered in true_divide\n"
     ]
    },
    {
     "data": {
      "text/plain": [
       "array([17.5,  4. , 11.5,  9. ])"
      ]
     },
     "execution_count": 453,
     "metadata": {},
     "output_type": "execute_result"
    }
   ],
   "source": [
    "leaf_histos = np.array([[1,0,np.nan,np.nan],\n",
    "                      [0,4,2,np.nan],\n",
    "                      [np.nan,0,3,5],\n",
    "                      [6,0,8,np.nan],\n",
    "                      [1,np.nan,np.nan,0]])\n",
    "leaf_histos = leaf_histos.T\n",
    "print(leaf_histos)\n",
    "\n",
    "min_cats = np.array([1,0,1,1,3]) # relative to this row\n",
    "avg_values_at_cat(leaf_histos, min_cats)"
   ]
  },
  {
   "cell_type": "code",
   "execution_count": 511,
   "metadata": {},
   "outputs": [],
   "source": [
    "a = np.array([3,3,3,2,3,4,4,8,1,2,1,1,1,3,2,2,2,2])\n",
    "a *= 10"
   ]
  },
  {
   "cell_type": "code",
   "execution_count": 512,
   "metadata": {},
   "outputs": [],
   "source": [
    "uniq, counts = np.unique(a, return_counts=True)"
   ]
  },
  {
   "cell_type": "code",
   "execution_count": 513,
   "metadata": {},
   "outputs": [
    {
     "data": {
      "text/plain": [
       "array([10, 20, 30, 40, 80])"
      ]
     },
     "execution_count": 513,
     "metadata": {},
     "output_type": "execute_result"
    }
   ],
   "source": [
    "uniq"
   ]
  },
  {
   "cell_type": "code",
   "execution_count": 514,
   "metadata": {},
   "outputs": [
    {
     "data": {
      "text/plain": [
       "array([4, 6, 5, 2, 1])"
      ]
     },
     "execution_count": 514,
     "metadata": {},
     "output_type": "execute_result"
    }
   ],
   "source": [
    "counts"
   ]
  },
  {
   "cell_type": "code",
   "execution_count": 515,
   "metadata": {},
   "outputs": [
    {
     "data": {
      "text/plain": [
       "array([1, 2, 0, 3, 4])"
      ]
     },
     "execution_count": 515,
     "metadata": {},
     "output_type": "execute_result"
    }
   ],
   "source": [
    "revsort_idx = np.argsort(counts)[::-1]\n",
    "revsort_idx"
   ]
  },
  {
   "cell_type": "code",
   "execution_count": 528,
   "metadata": {},
   "outputs": [
    {
     "data": {
      "text/plain": [
       "[20, 30, 10, 40, 80]"
      ]
     },
     "execution_count": 528,
     "metadata": {},
     "output_type": "execute_result"
    }
   ],
   "source": [
    "cats_by_most_common = list(uniq[revsort_idx])\n",
    "cats_by_most_common"
   ]
  },
  {
   "cell_type": "code",
   "execution_count": 531,
   "metadata": {},
   "outputs": [],
   "source": [
    "leaf_cats = np.array([40,20])"
   ]
  },
  {
   "cell_type": "code",
   "execution_count": 532,
   "metadata": {},
   "outputs": [
    {
     "data": {
      "text/plain": [
       "[3, 0]"
      ]
     },
     "execution_count": 532,
     "metadata": {},
     "output_type": "execute_result"
    }
   ],
   "source": [
    "leaf_cat_idxs = [list(cats_by_most_common).index(cat) for cat in leaf_cats]\n",
    "leaf_cat_idxs"
   ]
  },
  {
   "cell_type": "code",
   "execution_count": 533,
   "metadata": {},
   "outputs": [
    {
     "data": {
      "text/plain": [
       "20"
      ]
     },
     "execution_count": 533,
     "metadata": {},
     "output_type": "execute_result"
    }
   ],
   "source": [
    "most_common_leaf_cat = cats_by_most_common[np.min(leaf_cat_idxs)]\n",
    "most_common_leaf_cat"
   ]
  },
  {
   "cell_type": "code",
   "execution_count": 51,
   "metadata": {},
   "outputs": [
    {
     "data": {
      "text/html": [
       "<div>\n",
       "<style scoped>\n",
       "    .dataframe tbody tr th:only-of-type {\n",
       "        vertical-align: middle;\n",
       "    }\n",
       "\n",
       "    .dataframe tbody tr th {\n",
       "        vertical-align: top;\n",
       "    }\n",
       "\n",
       "    .dataframe thead th {\n",
       "        text-align: right;\n",
       "    }\n",
       "</style>\n",
       "<table border=\"1\" class=\"dataframe\">\n",
       "  <thead>\n",
       "    <tr style=\"text-align: right;\">\n",
       "      <th></th>\n",
       "      <th>x1</th>\n",
       "      <th>y</th>\n",
       "    </tr>\n",
       "  </thead>\n",
       "  <tbody>\n",
       "    <tr>\n",
       "      <td>0</td>\n",
       "      <td>1</td>\n",
       "      <td>100</td>\n",
       "    </tr>\n",
       "    <tr>\n",
       "      <td>1</td>\n",
       "      <td>2</td>\n",
       "      <td>100</td>\n",
       "    </tr>\n",
       "    <tr>\n",
       "      <td>2</td>\n",
       "      <td>3</td>\n",
       "      <td>100</td>\n",
       "    </tr>\n",
       "  </tbody>\n",
       "</table>\n",
       "</div>"
      ],
      "text/plain": [
       "   x1    y\n",
       "0   1  100\n",
       "1   2  100\n",
       "2   3  100"
      ]
     },
     "execution_count": 51,
     "metadata": {},
     "output_type": "execute_result"
    }
   ],
   "source": [
    "df = pd.DataFrame()\n",
    "df['x1'] = [1,2,3]\n",
    "df['y']  = [100,100,100]\n",
    "#df['y'] -= 150\n",
    "df"
   ]
  },
  {
   "cell_type": "code",
   "execution_count": 52,
   "metadata": {},
   "outputs": [
    {
     "data": {
      "text/html": [
       "<div>\n",
       "<style scoped>\n",
       "    .dataframe tbody tr th:only-of-type {\n",
       "        vertical-align: middle;\n",
       "    }\n",
       "\n",
       "    .dataframe tbody tr th {\n",
       "        vertical-align: top;\n",
       "    }\n",
       "\n",
       "    .dataframe thead th {\n",
       "        text-align: right;\n",
       "    }\n",
       "</style>\n",
       "<table border=\"1\" class=\"dataframe\">\n",
       "  <thead>\n",
       "    <tr style=\"text-align: right;\">\n",
       "      <th></th>\n",
       "      <th>x1</th>\n",
       "      <th>y</th>\n",
       "    </tr>\n",
       "  </thead>\n",
       "  <tbody>\n",
       "    <tr>\n",
       "      <td>0</td>\n",
       "      <td>3</td>\n",
       "      <td>200</td>\n",
       "    </tr>\n",
       "    <tr>\n",
       "      <td>1</td>\n",
       "      <td>4</td>\n",
       "      <td>200</td>\n",
       "    </tr>\n",
       "    <tr>\n",
       "      <td>2</td>\n",
       "      <td>5</td>\n",
       "      <td>200</td>\n",
       "    </tr>\n",
       "  </tbody>\n",
       "</table>\n",
       "</div>"
      ],
      "text/plain": [
       "   x1    y\n",
       "0   3  200\n",
       "1   4  200\n",
       "2   5  200"
      ]
     },
     "execution_count": 52,
     "metadata": {},
     "output_type": "execute_result"
    }
   ],
   "source": [
    "df2 = pd.DataFrame()\n",
    "df2['x1'] = [3,4,5]\n",
    "df2['y']  = [200,200,200]\n",
    "#df2['y'] -= 150\n",
    "df2"
   ]
  },
  {
   "cell_type": "code",
   "execution_count": 53,
   "metadata": {},
   "outputs": [
    {
     "name": "stdout",
     "output_type": "stream",
     "text": [
      "   x1   y\n",
      "0   1 -50\n",
      "1   2 -50\n",
      "2   3   0\n",
      "3   4  50\n",
      "4   5  50\n"
     ]
    }
   ],
   "source": [
    "df3 = df.merge(df2, on='x1', how='outer')\n",
    "#df3['y'] = df3['y_x'] + df3['y_y']\n",
    "df3['y'] = [-50,-50,0,50,50]\n",
    "df3 = df3[['x1','y']]\n",
    "print(df3)"
   ]
  },
  {
   "cell_type": "code",
   "execution_count": 71,
   "metadata": {},
   "outputs": [],
   "source": [
    "def load_flights(n):\n",
    "    \"\"\"\n",
    "    Download from https://www.kaggle.com/usdot/flight-delays/download and save\n",
    "    flight-delays.zip; unzip to convenient data dir.  Save time by storing as\n",
    "    feather.  5.8M records.\n",
    "    \"\"\"\n",
    "    dir = \"/Users/parrt/data/flight-delays\"\n",
    "    if os.path.exists(dir+\"/flights.feather\"):\n",
    "        df_flights = pd.read_feather(dir + \"/flights.feather\")\n",
    "    else:\n",
    "        df_flights = pd.read_csv(dir+\"/flights.csv\", low_memory=False)\n",
    "        df_flights.to_feather(dir+\"/flights.feather\")\n",
    "\n",
    "    df_flights['dayofyear'] = pd.to_datetime(\n",
    "        df_flights[['YEAR', 'MONTH', 'DAY']]).dt.dayofyear\n",
    "    df_flights = df_flights[\n",
    "        (df_flights['CANCELLED'] == 0) & (df_flights['DIVERTED'] == 0)]\n",
    "\n",
    "    # times are in 830 to mean 08:30, convert to two columns, hour and min\n",
    "    def cvt_time(df, colname):\n",
    "        df[f'{colname}_HOUR'] = df[colname] / 100\n",
    "        df[f'{colname}_HOUR'] = df[f'{colname}_HOUR'].astype(int)\n",
    "        df[f'{colname}_MIN']  = df[colname] - df[f'{colname}_HOUR'] * 100\n",
    "        df[f'{colname}_MIN']  = df[f'{colname}_MIN'].astype(int)\n",
    "\n",
    "    # cvt_time(df_flights, 'SCHEDULED_DEPARTURE')\n",
    "    # cvt_time(df_flights, 'SCHEDULED_ARRIVAL')\n",
    "    # cvt_time(df_flights, 'DEPARTURE_TIME')\n",
    "\n",
    "    features = [#'YEAR',  # drop year as it's a constant\n",
    "                'MONTH', 'DAY', 'DAY_OF_WEEK', 'dayofyear',\n",
    "                'AIRLINE', 'ORIGIN_AIRPORT', 'DESTINATION_AIRPORT',\n",
    "                'SCHEDULED_DEPARTURE',\n",
    "                # 'SCHEDULED_DEPARTURE_HOUR', 'SCHEDULED_DEPARTURE_MIN',\n",
    "                'SCHEDULED_ARRIVAL',\n",
    "                # 'SCHEDULED_ARRIVAL_HOUR',   'SCHEDULED_ARRIVAL_MIN',\n",
    "                'DEPARTURE_TIME',\n",
    "                # 'DEPARTURE_TIME_HOUR',      'DEPARTURE_TIME_MIN',\n",
    "                'FLIGHT_NUMBER', 'TAIL_NUMBER',\n",
    "                'AIR_TIME', 'DISTANCE',\n",
    "                'TAXI_IN', 'TAXI_OUT',\n",
    "                'SCHEDULED_TIME',\n",
    "                'ARRIVAL_DELAY']  # target\n",
    "\n",
    "    df_flights = df_flights[features]\n",
    "    df_flights = df_flights.dropna()  # ignore missing stuff for ease and reduce size\n",
    "    df_flights = df_flights.sample(n)\n",
    "    df_string_to_cat(df_flights)\n",
    "    df_cat_to_catcode(df_flights)\n",
    "\n",
    "    X, y = df_flights.drop('ARRIVAL_DELAY', axis=1), df_flights['ARRIVAL_DELAY']\n",
    "\n",
    "    return X, y, df_flights\n",
    "\n",
    "def df_string_to_cat(df:pd.DataFrame) -> dict:\n",
    "    catencoders = {}\n",
    "    for colname in df.columns:\n",
    "        if is_string_dtype(df[colname]) or is_object_dtype(df[colname]):\n",
    "            df[colname] = df[colname].astype('category').cat.as_ordered()\n",
    "            catencoders[colname] = df[colname].cat.categories\n",
    "    return catencoders\n",
    "\n",
    "\n",
    "def df_cat_to_catcode(df):\n",
    "    for col in df.columns:\n",
    "        if is_categorical_dtype(df[col]):\n",
    "            df[col] = df[col].cat.codes + 1\n",
    "\n",
    "\n",
    "def fix_missing_num(df, colname):\n",
    "    df[colname+'_na'] = pd.isnull(df[colname]).astype(int)\n",
    "    df[colname].fillna(df[colname].median(), inplace=True)\n",
    "\n",
    "\n",
    "def df_split_dates(df,colname):\n",
    "    df[\"saleyear\"] = df[colname].dt.year\n",
    "    df[\"salemonth\"] = df[colname].dt.month\n",
    "    df[\"saleday\"] = df[colname].dt.day\n",
    "    df[\"saledayofweek\"] = df[colname].dt.dayofweek\n",
    "    df[\"saledayofyear\"] = df[colname].dt.dayofyear\n",
    "    df[colname] = df[colname].astype(np.int64) # convert to seconds since 1970\n"
   ]
  },
  {
   "cell_type": "code",
   "execution_count": 114,
   "metadata": {},
   "outputs": [],
   "source": [
    "X, y, df_flights = load_flights(1000)"
   ]
  },
  {
   "cell_type": "code",
   "execution_count": 115,
   "metadata": {},
   "outputs": [],
   "source": [
    "catcolnames={'AIRLINE',\n",
    "          'ORIGIN_AIRPORT',\n",
    "          'DESTINATION_AIRPORT',\n",
    "          'FLIGHT_NUMBER',\n",
    "          'DAY_OF_WEEK'}\n",
    "features=df_flights.columns\n",
    "df = pd.DataFrame(X, columns=features)\n",
    "#df"
   ]
  },
  {
   "cell_type": "code",
   "execution_count": 123,
   "metadata": {},
   "outputs": [],
   "source": [
    "for cat in catcolnames:\n",
    "    df[cat] = df[cat].astype('category').cat.as_ordered()\n",
    "dummies = pd.get_dummies(df)\n",
    "X = pd.concat([df, dummies], axis=1)\n",
    "X = X.drop(catcolnames, axis=1)"
   ]
  },
  {
   "cell_type": "code",
   "execution_count": 128,
   "metadata": {},
   "outputs": [],
   "source": [
    "X = X.fillna(0)  # flip missing numeric values to zeros"
   ]
  },
  {
   "cell_type": "code",
   "execution_count": 129,
   "metadata": {},
   "outputs": [
    {
     "data": {
      "text/plain": [
       "False"
      ]
     },
     "execution_count": 129,
     "metadata": {},
     "output_type": "execute_result"
    }
   ],
   "source": [
    "np.isnan(X.values).any()"
   ]
  },
  {
   "cell_type": "code",
   "execution_count": 131,
   "metadata": {},
   "outputs": [
    {
     "data": {
      "text/plain": [
       "6.198033730697716e-11"
      ]
     },
     "execution_count": 131,
     "metadata": {},
     "output_type": "execute_result"
    }
   ],
   "source": [
    "m = LinearRegression()\n",
    "m.fit(X, y)\n",
    "y_pred = m.predict(X)\n",
    "mean_absolute_error(y, y_pred)"
   ]
  },
  {
   "cell_type": "code",
   "execution_count": null,
   "metadata": {},
   "outputs": [],
   "source": []
  }
 ],
 "metadata": {
  "kernelspec": {
   "display_name": "Python 3",
   "language": "python",
   "name": "python3"
  },
  "language_info": {
   "codemirror_mode": {
    "name": "ipython",
    "version": 3
   },
   "file_extension": ".py",
   "mimetype": "text/x-python",
   "name": "python",
   "nbconvert_exporter": "python",
   "pygments_lexer": "ipython3",
   "version": "3.7.4"
  }
 },
 "nbformat": 4,
 "nbformat_minor": 4
}
