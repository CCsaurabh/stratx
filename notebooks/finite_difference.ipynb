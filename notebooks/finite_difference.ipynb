{
 "cells": [
  {
   "cell_type": "markdown",
   "metadata": {},
   "source": [
    "## Gradients"
   ]
  },
  {
   "cell_type": "code",
   "execution_count": 1,
   "metadata": {},
   "outputs": [],
   "source": [
    "import pandas as pd\n",
    "import numpy as np\n",
    "import matplotlib.pyplot as plt\n",
    "import os\n",
    "from pandas.api.types import is_string_dtype, is_object_dtype, is_categorical_dtype, is_bool_dtype\n",
    "import numpy as np\n",
    "import pandas as pd\n",
    "\n",
    "import statsmodels.api as sm\n",
    "from scipy.stats import spearmanr\n",
    "from sklearn.decomposition import PCA\n",
    "\n",
    "import matplotlib.pyplot as plt\n",
    "\n",
    "from collections import OrderedDict\n",
    "\n",
    "from sklearn.linear_model import LinearRegression, Lasso, LogisticRegression\n",
    "from sklearn.ensemble import RandomForestRegressor\n",
    "from sklearn.ensemble import GradientBoostingRegressor\n",
    "from sklearn.utils import resample\n",
    "from sklearn.model_selection import train_test_split\n",
    "from timeit import default_timer as timer\n",
    "from sklearn.metrics import mean_absolute_error, mean_squared_error, r2_score\n",
    "from sklearn.model_selection import GridSearchCV\n",
    "from sklearn.datasets import load_boston\n",
    "from pandas.api.types import is_string_dtype, is_object_dtype, is_categorical_dtype, is_bool_dtype\n",
    "from sklearn.preprocessing import StandardScaler\n",
    "from sklearn.preprocessing import PolynomialFeatures\n",
    "from sklearn import linear_model\n"
   ]
  },
  {
   "cell_type": "code",
   "execution_count": 2,
   "metadata": {},
   "outputs": [
    {
     "data": {
      "text/plain": [
       "(array([2, 1, 3, 6]), array([1, 2, 3, 4]))"
      ]
     },
     "execution_count": 2,
     "metadata": {},
     "output_type": "execute_result"
    }
   ],
   "source": [
    "x = np.array([1,3,4,7,13])\n",
    "y = np.array([5,6,8,11,15])\n",
    "dx = np.diff(x)\n",
    "dy = np.diff(y)\n",
    "dx, dy"
   ]
  },
  {
   "cell_type": "markdown",
   "metadata": {},
   "source": [
    "### forward diff"
   ]
  },
  {
   "cell_type": "code",
   "execution_count": 3,
   "metadata": {},
   "outputs": [
    {
     "data": {
      "text/plain": [
       "array([0.5       , 2.        , 1.        , 0.66666667])"
      ]
     },
     "execution_count": 3,
     "metadata": {},
     "output_type": "execute_result"
    }
   ],
   "source": [
    "dy/dx"
   ]
  },
  {
   "cell_type": "markdown",
   "metadata": {},
   "source": [
    "### center diff\n",
    "\n",
    "Method A from [here](https://www.rug.nl/research/portal/files/3332271/1992JEngMathVeldman.pdf)\n",
    "\n",
    "$dy/dx = \\frac{y_{i+1}-y_{i-1}}{x_{i+1}-x_{i-1}}$"
   ]
  },
  {
   "cell_type": "code",
   "execution_count": 4,
   "metadata": {},
   "outputs": [
    {
     "data": {
      "text/plain": [
       "(array([2, 1, 3, 6]), array([6, 2, 3, 1]), 4)"
      ]
     },
     "execution_count": 4,
     "metadata": {},
     "output_type": "execute_result"
    }
   ],
   "source": [
    "x = np.array([1,3,4,7,13])\n",
    "y = np.array([0,6,8,11,12])\n",
    "dx = np.diff(x)\n",
    "dy = np.diff(y)\n",
    "dx, dy, len(dx)"
   ]
  },
  {
   "cell_type": "code",
   "execution_count": 5,
   "metadata": {},
   "outputs": [
    {
     "data": {
      "text/plain": [
       "array([3.        , 2.        , 1.        , 0.16666667])"
      ]
     },
     "execution_count": 5,
     "metadata": {},
     "output_type": "execute_result"
    }
   ],
   "source": [
    "fdydx = dy/dx\n",
    "fdydx"
   ]
  },
  {
   "cell_type": "code",
   "execution_count": 6,
   "metadata": {},
   "outputs": [
    {
     "data": {
      "text/plain": [
       "[<matplotlib.lines.Line2D at 0x12f395110>]"
      ]
     },
     "execution_count": 6,
     "metadata": {},
     "output_type": "execute_result"
    },
    {
     "data": {
      "image/png": "[encoded data removed]",
      "text/plain": [
       "<Figure size 432x288 with 1 Axes>"
      ]
     },
     "metadata": {
      "needs_background": "light"
     },
     "output_type": "display_data"
    }
   ],
   "source": [
    "plt.plot(x,y,'s',c='k')"
   ]
  },
  {
   "cell_type": "code",
   "execution_count": 7,
   "metadata": {},
   "outputs": [
    {
     "name": "stdout",
     "output_type": "stream",
     "text": [
      "[3.         2.         1.         0.16666667]\n"
     ]
    },
    {
     "data": {
      "text/plain": [
       "array([ 0.,  6.,  8., 11., 12.])"
      ]
     },
     "execution_count": 7,
     "metadata": {},
     "output_type": "execute_result"
    }
   ],
   "source": [
    "# forward\n",
    "fdydx = dy/dx\n",
    "print(fdydx)\n",
    "fpdpy = np.cumsum(fdydx * dx)\n",
    "fpdpy = np.concatenate([np.array([0]), fpdpy])\n",
    "fpdpy"
   ]
  },
  {
   "cell_type": "code",
   "execution_count": 8,
   "metadata": {},
   "outputs": [
    {
     "name": "stdout",
     "output_type": "stream",
     "text": [
      "[3.0, 2.5, 1.5, 0.5833333333333334]\n"
     ]
    },
    {
     "data": {
      "text/plain": [
       "array([ 0. ,  6. ,  8.5, 13. , 16.5])"
      ]
     },
     "execution_count": 8,
     "metadata": {},
     "output_type": "execute_result"
    }
   ],
   "source": [
    "adydx = [fdydx[0]] + list((fdydx[:-1] + fdydx[1:])/2)\n",
    "print(adydx)\n",
    "apdpy = np.cumsum(adydx * dx)\n",
    "apdpy = np.concatenate([np.array([0]), apdpy])\n",
    "apdpy"
   ]
  },
  {
   "cell_type": "code",
   "execution_count": 9,
   "metadata": {},
   "outputs": [
    {
     "data": {
      "text/plain": [
       "[<matplotlib.lines.Line2D at 0x12f4a5810>]"
      ]
     },
     "execution_count": 9,
     "metadata": {},
     "output_type": "execute_result"
    },
    {
     "data": {
      "image/png": "[encoded data removed]",
      "text/plain": [
       "<Figure size 432x288 with 1 Axes>"
      ]
     },
     "metadata": {
      "needs_background": "light"
     },
     "output_type": "display_data"
    }
   ],
   "source": [
    "plt.plot(x,y, 'D', c='k')\n",
    "plt.plot(x, fpdpy, 's-', lw=.5)\n",
    "plt.plot(x, apdpy, '.-', lw=.5)"
   ]
  },
  {
   "cell_type": "code",
   "execution_count": 10,
   "metadata": {},
   "outputs": [
    {
     "data": {
      "text/plain": [
       "array([3, 4, 9])"
      ]
     },
     "execution_count": 10,
     "metadata": {},
     "output_type": "execute_result"
    }
   ],
   "source": [
    "# find stride 2 diff so we can get x[i+1] - x[i-1]\n",
    "dx2 = x[2:] - x[:-2]\n",
    "dx2"
   ]
  },
  {
   "cell_type": "code",
   "execution_count": 11,
   "metadata": {},
   "outputs": [
    {
     "data": {
      "text/plain": [
       "array([8, 5, 4])"
      ]
     },
     "execution_count": 11,
     "metadata": {},
     "output_type": "execute_result"
    }
   ],
   "source": [
    "dy2 = y[2:] - y[:-2]\n",
    "dy2"
   ]
  },
  {
   "cell_type": "code",
   "execution_count": 12,
   "metadata": {},
   "outputs": [
    {
     "data": {
      "text/plain": [
       "array([2.66666667, 1.25      , 0.44444444])"
      ]
     },
     "execution_count": 12,
     "metadata": {},
     "output_type": "execute_result"
    }
   ],
   "source": [
    "dy2/dx2"
   ]
  },
  {
   "cell_type": "code",
   "execution_count": 13,
   "metadata": {},
   "outputs": [
    {
     "data": {
      "text/plain": [
       "3.0"
      ]
     },
     "execution_count": 13,
     "metadata": {},
     "output_type": "execute_result"
    }
   ],
   "source": [
    "# forward diff for i=0\n",
    "dydx0 = (y[1]-y[0])/(x[1]-x[0])\n",
    "dydx0"
   ]
  },
  {
   "cell_type": "code",
   "execution_count": 14,
   "metadata": {},
   "outputs": [
    {
     "data": {
      "text/plain": [
       "[3.0, 2.6666666666666665, 1.25, 0.4444444444444444]"
      ]
     },
     "execution_count": 14,
     "metadata": {},
     "output_type": "execute_result"
    }
   ],
   "source": [
    "cdydx = [dydx0] + list(dy2/dx2)\n",
    "cdydx"
   ]
  },
  {
   "cell_type": "code",
   "execution_count": 15,
   "metadata": {},
   "outputs": [
    {
     "data": {
      "text/plain": [
       "array([ 0.        ,  6.        ,  8.66666667, 12.41666667, 15.08333333])"
      ]
     },
     "execution_count": 15,
     "metadata": {},
     "output_type": "execute_result"
    }
   ],
   "source": [
    "cpdpy = np.cumsum(cdydx * dx)\n",
    "cpdpy = np.concatenate([np.array([0]), cpdpy])\n",
    "cpdpy"
   ]
  },
  {
   "cell_type": "code",
   "execution_count": 16,
   "metadata": {},
   "outputs": [
    {
     "data": {
      "text/plain": [
       "[<matplotlib.lines.Line2D at 0x12f585690>]"
      ]
     },
     "execution_count": 16,
     "metadata": {},
     "output_type": "execute_result"
    },
    {
     "data": {
      "image/png": "[encoded data removed]",
      "text/plain": [
       "<Figure size 432x288 with 1 Axes>"
      ]
     },
     "metadata": {
      "needs_background": "light"
     },
     "output_type": "display_data"
    }
   ],
   "source": [
    "plt.plot(x,y, c='k')\n",
    "plt.plot(x, np.cumsum([0]+list(fdydx)), c='green')\n",
    "plt.plot(x, np.cumsum([0]+list(cdydx)), c='orange')"
   ]
  },
  {
   "cell_type": "code",
   "execution_count": 17,
   "metadata": {},
   "outputs": [
    {
     "data": {
      "text/plain": [
       "array([3.        , 2.33333333, 1.75      , 0.72222222])"
      ]
     },
     "execution_count": 17,
     "metadata": {},
     "output_type": "execute_result"
    }
   ],
   "source": [
    "gdydx = np.gradient(y,x,edge_order=1)[:-1]\n",
    "gdydx"
   ]
  },
  {
   "cell_type": "code",
   "execution_count": 18,
   "metadata": {},
   "outputs": [
    {
     "data": {
      "text/plain": [
       "array([ 0.        ,  6.        ,  8.33333333, 13.58333333, 17.91666667])"
      ]
     },
     "execution_count": 18,
     "metadata": {},
     "output_type": "execute_result"
    }
   ],
   "source": [
    "gpdpy = np.cumsum(gdydx * dx)\n",
    "gpdpy = np.concatenate([np.array([0]), gpdpy])\n",
    "gpdpy"
   ]
  },
  {
   "cell_type": "code",
   "execution_count": 19,
   "metadata": {},
   "outputs": [
    {
     "data": {
      "text/plain": [
       "<matplotlib.legend.Legend at 0x12e877ed0>"
      ]
     },
     "execution_count": 19,
     "metadata": {},
     "output_type": "execute_result"
    },
    {
     "data": {
      "image/png": "[encoded data removed]",
      "text/plain": [
       "<Figure size 432x288 with 1 Axes>"
      ]
     },
     "metadata": {
      "needs_background": "light"
     },
     "output_type": "display_data"
    }
   ],
   "source": [
    "plt.plot(x,y, 's', c='k', label='(x,y)')\n",
    "plt.plot(x, fpdpy, '.-', c='green', label='forward')\n",
    "plt.plot(x, cpdpy, '.-', c='orange', label='secant')\n",
    "plt.plot(x, gpdpy, '.-', c='blue', label='parabolic')\n",
    "plt.plot(x, apdpy, '.-', c='red', label='average')\n",
    "plt.legend(loc='upper left')"
   ]
  },
  {
   "cell_type": "code",
   "execution_count": 20,
   "metadata": {},
   "outputs": [],
   "source": [
    "def finite_differences(x: np.ndarray, y: np.ndarray, which='forward'):\n",
    "    ignored = 0\n",
    "\n",
    "    # Group by x, take mean of all y with same x value (they come back sorted too)\n",
    "    # uniq_x = np.unique(x)\n",
    "    x = x.round(decimals=10)\n",
    "    uniq_x = np.unique(x)\n",
    "    avg_y = np.array([y[x==ux].mean() for ux in uniq_x])\n",
    "\n",
    "    if len(uniq_x)==1:\n",
    "        # print(f\"ignore {len(x)} in discrete_xc_space\")\n",
    "        ignored += len(x)\n",
    "        return np.array([[0]],dtype=x.dtype), np.array([0.0]), ignored\n",
    "\n",
    "    # FORWARD DIFF\n",
    "    if which=='forward':\n",
    "        x_deltas = np.diff(uniq_x)\n",
    "        y_deltas = np.diff(avg_y)\n",
    "        leaf_slopes = y_deltas / x_deltas  # \"rise over run\"\n",
    "\n",
    "    # AVERAGE AROUND CENTER DIFF\n",
    "    # At position i, take average of forward slope from y[i-1] to y[i] and\n",
    "    # slope from y[i] to y[i+1].\n",
    "    # leaf_slopes = [leaf_slopes[0]] + list((leaf_slopes[:-1] + leaf_slopes[1:]) / 2)\n",
    "    # leaf_slopes = np.array(leaf_slopes)\n",
    "    # dang, doesn't seem to work\n",
    "\n",
    "    # CENTER DIFF\n",
    "    elif which=='secant':\n",
    "        x_deltas2 = uniq_x[2:] - uniq_x[:-2]  # this is empty if |uniq_x|==2\n",
    "        y_deltas2 = avg_y[2:] - avg_y[:-2]\n",
    "        dydx0 = (avg_y[1] - avg_y[0]) / (uniq_x[1] - uniq_x[0]) # forward diff for i=0\n",
    "        leaf_slopes_ctr = [dydx0] + list(y_deltas2 / x_deltas2)  # \"rise over run, stride 2\"\n",
    "        leaf_slopes = np.array(leaf_slopes_ctr)\n",
    "\n",
    "    elif which=='parabolic':\n",
    "        leaf_slopes = np.gradient(avg_y, uniq_x)[:-1] # drop last derivative as we won't use it\n",
    "    # print(\"ctr\",list(leaf_slopes_ctr))\n",
    "    # print(\"grd\",list(leaf_slopes))\n",
    "\n",
    "    leaf_xranges = np.array(list(zip(uniq_x, uniq_x[1:])))\n",
    "\n",
    "    return leaf_xranges, leaf_slopes, ignored"
   ]
  },
  {
   "cell_type": "code",
   "execution_count": 21,
   "metadata": {},
   "outputs": [],
   "source": [
    "def intg(x, dydx):\n",
    "    dx = np.diff(x)\n",
    "    pdpy = np.cumsum(dydx * dx)\n",
    "    pdpy = np.concatenate([np.array([0]), pdpy])\n",
    "    return pdpy"
   ]
  },
  {
   "cell_type": "code",
   "execution_count": 22,
   "metadata": {},
   "outputs": [],
   "source": [
    "def plot_quad(ax,n):\n",
    "    x = np.array(sorted(np.random.random(size=n)))/10\n",
    "    y = x**2 + np.sin(100*x)*30\n",
    "    x2 = np.array(sorted(np.random.random(size=n)+5))\n",
    "    y2 = x**2 + np.sin(10*x2)*30\n",
    "    \n",
    "#     x = np.concatenate([x,x2])\n",
    "#     y = np.concatenate([y,y2])\n",
    "#     print(x)\n",
    "#     print(y)\n",
    "#     y += np.random.normal(0,5.0) # add noise\n",
    "    y = y - y[0] # always start from 0\n",
    "    \n",
    "\n",
    "    ranges, fdydx, _ = finite_differences(x,y, 'forward')\n",
    "    ranges, sdydx, _ = finite_differences(x,y, 'secant')\n",
    "    ranges, pdydx, _ = finite_differences(x,y, 'parabolic')\n",
    "\n",
    "    ax.scatter(x,y,marker='s',c='k',s=10, label='(x,y)')\n",
    "    ax.plot(x,intg(x, fdydx), '-', c='blue', lw=.5, label='forward', markersize=3)\n",
    "    ax.plot(x,intg(x, sdydx), '-', c='orange', lw=.5, label='secant', markersize=3)\n",
    "    ax.plot(x,intg(x, pdydx), '-', c='red', lw=.5, label='parabolic', markersize=3)\n",
    "    ax.set_xlabel(\"x\")\n",
    "    ax.set_title(f\"n={n}\")"
   ]
  },
  {
   "cell_type": "code",
   "execution_count": 23,
   "metadata": {},
   "outputs": [
    {
     "data": {
      "image/png": "[encoded data removed]",
      "text/plain": [
       "<Figure size 1080x216 with 5 Axes>"
      ]
     },
     "metadata": {
      "needs_background": "light"
     },
     "output_type": "display_data"
    }
   ],
   "source": [
    "fig, axes = plt.subplots(1,5, figsize=(15,3), sharey=True)\n",
    "plot_quad(axes[0],5)\n",
    "axes[0].set_ylabel(\"y\")\n",
    "axes[0].legend(loc='upper left')\n",
    "plot_quad(axes[1],10)\n",
    "plot_quad(axes[2],15)\n",
    "plot_quad(axes[3],20)\n",
    "plot_quad(axes[4],100)\n",
    "plt.savefig(\"/tmp/foo.pdf\")"
   ]
  },
  {
   "cell_type": "code",
   "execution_count": 24,
   "metadata": {},
   "outputs": [
    {
     "data": {
      "text/plain": [
       "array([1, 3])"
      ]
     },
     "execution_count": 24,
     "metadata": {},
     "output_type": "execute_result"
    }
   ],
   "source": [
    "np.cumsum([1,2])"
   ]
  }
 ],
 "metadata": {
  "kernelspec": {
   "display_name": "Python 3",
   "language": "python",
   "name": "python3"
  },
  "language_info": {
   "codemirror_mode": {
    "name": "ipython",
    "version": 3
   },
   "file_extension": ".py",
   "mimetype": "text/x-python",
   "name": "python",
   "nbconvert_exporter": "python",
   "pygments_lexer": "ipython3",
   "version": "3.7.4"
  }
 },
 "nbformat": 4,
 "nbformat_minor": 4
}
