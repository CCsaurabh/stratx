{
 "cells": [
  {
   "cell_type": "code",
   "execution_count": 42,
   "metadata": {},
   "outputs": [],
   "source": [
    "import pandas as pd\n",
    "import numpy as np\n",
    "from sklearn.ensemble import RandomForestRegressor\n",
    "from pandas.api.types import is_string_dtype, is_object_dtype, is_categorical_dtype, is_bool_dtype\n",
    "\n",
    "def df_string_to_cat(df:pd.DataFrame) -> dict:\n",
    "    catencoders = {}\n",
    "    for colname in df.columns:\n",
    "        if is_string_dtype(df[colname]) or is_object_dtype(df[colname]):\n",
    "            df[colname] = df[colname].astype('category').cat.as_ordered()\n",
    "            catencoders[colname] = df[colname].cat.categories\n",
    "    return catencoders\n",
    "\n",
    "\n",
    "def df_cat_to_catcode(df):\n",
    "    for col in df.columns:\n",
    "        if is_categorical_dtype(df[col]):\n",
    "            df[col] = df[col].cat.codes + 1"
   ]
  },
  {
   "cell_type": "code",
   "execution_count": 87,
   "metadata": {},
   "outputs": [],
   "source": [
    "dir = \"/Users/parrt/data/flight-delays\""
   ]
  },
  {
   "cell_type": "raw",
   "metadata": {},
   "source": [
    "df_flights = pd.read_csv(dir+\"/flights.csv\", low_memory=False)\n",
    "df_flights.to_feather(dir+\"/flights.feather\")"
   ]
  },
  {
   "cell_type": "code",
   "execution_count": 227,
   "metadata": {},
   "outputs": [
    {
     "data": {
      "text/plain": [
       "Index(['YEAR', 'MONTH', 'DAY', 'DAY_OF_WEEK', 'AIRLINE', 'FLIGHT_NUMBER',\n",
       "       'TAIL_NUMBER', 'ORIGIN_AIRPORT', 'DESTINATION_AIRPORT',\n",
       "       'SCHEDULED_DEPARTURE', 'DEPARTURE_TIME', 'DEPARTURE_DELAY', 'TAXI_OUT',\n",
       "       'WHEELS_OFF', 'SCHEDULED_TIME', 'ELAPSED_TIME', 'AIR_TIME', 'DISTANCE',\n",
       "       'WHEELS_ON', 'TAXI_IN', 'SCHEDULED_ARRIVAL', 'ARRIVAL_TIME',\n",
       "       'ARRIVAL_DELAY', 'DIVERTED', 'CANCELLED', 'CANCELLATION_REASON',\n",
       "       'AIR_SYSTEM_DELAY', 'SECURITY_DELAY', 'AIRLINE_DELAY',\n",
       "       'LATE_AIRCRAFT_DELAY', 'WEATHER_DELAY'],\n",
       "      dtype='object')"
      ]
     },
     "execution_count": 227,
     "metadata": {},
     "output_type": "execute_result"
    }
   ],
   "source": [
    "df_flights = pd.read_feather(dir+\"/flights.feather\")\n",
    "df_flights.columns"
   ]
  },
  {
   "cell_type": "code",
   "execution_count": 228,
   "metadata": {},
   "outputs": [],
   "source": [
    "df_flights['dayofyear'] = pd.to_datetime(df_flights[['YEAR','MONTH', 'DAY']]).dt.dayofyear\n",
    "df_flights = df_flights[(df_flights['CANCELLED']==0) & (df_flights['DIVERTED']==0)]\n",
    "df_flights['DELAY'] = df_flights['ARRIVAL_DELAY']\n",
    "# + \\\n",
    "#                       df_flights['DEPARTURE_DELAY'] + \\\n",
    "#                       df_flights['AIRLINE_DELAY'] +\\\n",
    "#                         df_flights['SECURITY_DELAY'] + \\\n",
    "#                         df_flights['AIR_SYSTEM_DELAY'] + \\\n",
    "#                         df_flights['LATE_AIRCRAFT_DELAY'] + \\\n",
    "#                         df_flights['ARRIVAL_DELAY']"
   ]
  },
  {
   "cell_type": "code",
   "execution_count": 229,
   "metadata": {},
   "outputs": [],
   "source": [
    "features = ['YEAR', 'MONTH', 'DAY', 'DAY_OF_WEEK', 'dayofyear',\n",
    "            'AIRLINE', 'ORIGIN_AIRPORT', 'DESTINATION_AIRPORT',\n",
    "            'SCHEDULED_DEPARTURE', 'FLIGHT_NUMBER','TAIL_NUMBER',\n",
    "            'AIR_TIME', 'DISTANCE',\n",
    "            'TAXI_IN', 'TAXI_OUT',\n",
    "            'DEPARTURE_TIME',\n",
    "            'SCHEDULED_ARRIVAL',\n",
    "            #'ARRIVAL_TIME',\n",
    "            'SCHEDULED_TIME',\n",
    "            #'ELAPSED_TIME',\n",
    "            'DELAY'] # target"
   ]
  },
  {
   "cell_type": "code",
   "execution_count": 230,
   "metadata": {},
   "outputs": [],
   "source": [
    "n = 80_000\n",
    "df_flights = df_flights[features]\n",
    "df_flights = df_flights.dropna() # ignore missing stuff for ease and reduce size\n",
    "df_flights = df_flights.sample(n)"
   ]
  },
  {
   "cell_type": "code",
   "execution_count": 231,
   "metadata": {},
   "outputs": [
    {
     "data": {
      "text/plain": [
       "80000"
      ]
     },
     "execution_count": 231,
     "metadata": {},
     "output_type": "execute_result"
    }
   ],
   "source": [
    "len(df_flights)"
   ]
  },
  {
   "cell_type": "code",
   "execution_count": 232,
   "metadata": {},
   "outputs": [
    {
     "data": {
      "text/html": [
       "<div>\n",
       "<style scoped>\n",
       "    .dataframe tbody tr th:only-of-type {\n",
       "        vertical-align: middle;\n",
       "    }\n",
       "\n",
       "    .dataframe tbody tr th {\n",
       "        vertical-align: top;\n",
       "    }\n",
       "\n",
       "    .dataframe thead th {\n",
       "        text-align: right;\n",
       "    }\n",
       "</style>\n",
       "<table border=\"1\" class=\"dataframe\">\n",
       "  <thead>\n",
       "    <tr style=\"text-align: right;\">\n",
       "      <th></th>\n",
       "      <th>YEAR</th>\n",
       "      <th>MONTH</th>\n",
       "      <th>DAY</th>\n",
       "      <th>DAY_OF_WEEK</th>\n",
       "      <th>dayofyear</th>\n",
       "      <th>AIRLINE</th>\n",
       "      <th>ORIGIN_AIRPORT</th>\n",
       "      <th>DESTINATION_AIRPORT</th>\n",
       "      <th>SCHEDULED_DEPARTURE</th>\n",
       "      <th>FLIGHT_NUMBER</th>\n",
       "      <th>TAIL_NUMBER</th>\n",
       "      <th>AIR_TIME</th>\n",
       "      <th>DISTANCE</th>\n",
       "      <th>TAXI_IN</th>\n",
       "      <th>TAXI_OUT</th>\n",
       "      <th>DEPARTURE_TIME</th>\n",
       "      <th>SCHEDULED_ARRIVAL</th>\n",
       "      <th>SCHEDULED_TIME</th>\n",
       "    </tr>\n",
       "  </thead>\n",
       "  <tbody>\n",
       "    <tr>\n",
       "      <td>267493</td>\n",
       "      <td>2015</td>\n",
       "      <td>1</td>\n",
       "      <td>18</td>\n",
       "      <td>7</td>\n",
       "      <td>18</td>\n",
       "      <td>14</td>\n",
       "      <td>545</td>\n",
       "      <td>309</td>\n",
       "      <td>1445</td>\n",
       "      <td>540</td>\n",
       "      <td>3870</td>\n",
       "      <td>225.0</td>\n",
       "      <td>1565</td>\n",
       "      <td>10.0</td>\n",
       "      <td>15.0</td>\n",
       "      <td>1438.0</td>\n",
       "      <td>1810</td>\n",
       "      <td>265.0</td>\n",
       "    </tr>\n",
       "    <tr>\n",
       "      <td>4241672</td>\n",
       "      <td>2015</td>\n",
       "      <td>9</td>\n",
       "      <td>21</td>\n",
       "      <td>1</td>\n",
       "      <td>264</td>\n",
       "      <td>13</td>\n",
       "      <td>538</td>\n",
       "      <td>433</td>\n",
       "      <td>1920</td>\n",
       "      <td>942</td>\n",
       "      <td>2017</td>\n",
       "      <td>59.0</td>\n",
       "      <td>337</td>\n",
       "      <td>7.0</td>\n",
       "      <td>14.0</td>\n",
       "      <td>1939.0</td>\n",
       "      <td>2045</td>\n",
       "      <td>85.0</td>\n",
       "    </tr>\n",
       "    <tr>\n",
       "      <td>2754300</td>\n",
       "      <td>2015</td>\n",
       "      <td>6</td>\n",
       "      <td>22</td>\n",
       "      <td>1</td>\n",
       "      <td>173</td>\n",
       "      <td>8</td>\n",
       "      <td>347</td>\n",
       "      <td>298</td>\n",
       "      <td>2145</td>\n",
       "      <td>3091</td>\n",
       "      <td>3000</td>\n",
       "      <td>46.0</td>\n",
       "      <td>270</td>\n",
       "      <td>1.0</td>\n",
       "      <td>12.0</td>\n",
       "      <td>2141.0</td>\n",
       "      <td>2254</td>\n",
       "      <td>69.0</td>\n",
       "    </tr>\n",
       "    <tr>\n",
       "      <td>639153</td>\n",
       "      <td>2015</td>\n",
       "      <td>2</td>\n",
       "      <td>12</td>\n",
       "      <td>4</td>\n",
       "      <td>43</td>\n",
       "      <td>14</td>\n",
       "      <td>346</td>\n",
       "      <td>525</td>\n",
       "      <td>850</td>\n",
       "      <td>519</td>\n",
       "      <td>591</td>\n",
       "      <td>105.0</td>\n",
       "      <td>853</td>\n",
       "      <td>2.0</td>\n",
       "      <td>13.0</td>\n",
       "      <td>843.0</td>\n",
       "      <td>1015</td>\n",
       "      <td>145.0</td>\n",
       "    </tr>\n",
       "    <tr>\n",
       "      <td>3122739</td>\n",
       "      <td>2015</td>\n",
       "      <td>7</td>\n",
       "      <td>15</td>\n",
       "      <td>3</td>\n",
       "      <td>196</td>\n",
       "      <td>4</td>\n",
       "      <td>436</td>\n",
       "      <td>534</td>\n",
       "      <td>650</td>\n",
       "      <td>995</td>\n",
       "      <td>1121</td>\n",
       "      <td>127.0</td>\n",
       "      <td>954</td>\n",
       "      <td>10.0</td>\n",
       "      <td>10.0</td>\n",
       "      <td>645.0</td>\n",
       "      <td>933</td>\n",
       "      <td>163.0</td>\n",
       "    </tr>\n",
       "  </tbody>\n",
       "</table>\n",
       "</div>"
      ],
      "text/plain": [
       "         YEAR  MONTH  DAY  DAY_OF_WEEK  dayofyear  AIRLINE  ORIGIN_AIRPORT  \\\n",
       "267493   2015      1   18            7         18       14             545   \n",
       "4241672  2015      9   21            1        264       13             538   \n",
       "2754300  2015      6   22            1        173        8             347   \n",
       "639153   2015      2   12            4         43       14             346   \n",
       "3122739  2015      7   15            3        196        4             436   \n",
       "\n",
       "         DESTINATION_AIRPORT  SCHEDULED_DEPARTURE  FLIGHT_NUMBER  TAIL_NUMBER  \\\n",
       "267493                   309                 1445            540         3870   \n",
       "4241672                  433                 1920            942         2017   \n",
       "2754300                  298                 2145           3091         3000   \n",
       "639153                   525                  850            519          591   \n",
       "3122739                  534                  650            995         1121   \n",
       "\n",
       "         AIR_TIME  DISTANCE  TAXI_IN  TAXI_OUT  DEPARTURE_TIME  \\\n",
       "267493      225.0      1565     10.0      15.0          1438.0   \n",
       "4241672      59.0       337      7.0      14.0          1939.0   \n",
       "2754300      46.0       270      1.0      12.0          2141.0   \n",
       "639153      105.0       853      2.0      13.0           843.0   \n",
       "3122739     127.0       954     10.0      10.0           645.0   \n",
       "\n",
       "         SCHEDULED_ARRIVAL  SCHEDULED_TIME  \n",
       "267493                1810           265.0  \n",
       "4241672               2045            85.0  \n",
       "2754300               2254            69.0  \n",
       "639153                1015           145.0  \n",
       "3122739                933           163.0  "
      ]
     },
     "execution_count": 232,
     "metadata": {},
     "output_type": "execute_result"
    }
   ],
   "source": [
    "df_string_to_cat(df_flights)\n",
    "df_cat_to_catcode(df_flights)\n",
    "\n",
    "X, y = df_flights.drop('DELAY', axis=1), df_flights['DELAY']\n",
    "X.head(5)"
   ]
  },
  {
   "cell_type": "code",
   "execution_count": 233,
   "metadata": {},
   "outputs": [
    {
     "data": {
      "text/plain": [
       "RandomForestRegressor(bootstrap=True, criterion='mse', max_depth=None,\n",
       "                      max_features='auto', max_leaf_nodes=None,\n",
       "                      min_impurity_decrease=0.0, min_impurity_split=None,\n",
       "                      min_samples_leaf=1, min_samples_split=2,\n",
       "                      min_weight_fraction_leaf=0.0, n_estimators=40, n_jobs=-1,\n",
       "                      oob_score=True, random_state=None, verbose=0,\n",
       "                      warm_start=False)"
      ]
     },
     "execution_count": 233,
     "metadata": {},
     "output_type": "execute_result"
    }
   ],
   "source": [
    "rf = RandomForestRegressor(n_estimators=40, oob_score=True, n_jobs=-1)\n",
    "rf.fit(X, y)"
   ]
  },
  {
   "cell_type": "code",
   "execution_count": 234,
   "metadata": {},
   "outputs": [
    {
     "data": {
      "text/plain": [
       "0.8531334814269419"
      ]
     },
     "execution_count": 234,
     "metadata": {},
     "output_type": "execute_result"
    }
   ],
   "source": [
    "rf.oob_score_"
   ]
  },
  {
   "cell_type": "code",
   "execution_count": null,
   "metadata": {},
   "outputs": [],
   "source": []
  },
  {
   "cell_type": "code",
   "execution_count": null,
   "metadata": {},
   "outputs": [],
   "source": []
  },
  {
   "cell_type": "code",
   "execution_count": null,
   "metadata": {},
   "outputs": [],
   "source": []
  },
  {
   "cell_type": "code",
   "execution_count": null,
   "metadata": {},
   "outputs": [],
   "source": []
  },
  {
   "cell_type": "code",
   "execution_count": null,
   "metadata": {},
   "outputs": [],
   "source": []
  }
 ],
 "metadata": {
  "kernelspec": {
   "display_name": "Python 3",
   "language": "python",
   "name": "python3"
  },
  "language_info": {
   "codemirror_mode": {
    "name": "ipython",
    "version": 3
   },
   "file_extension": ".py",
   "mimetype": "text/x-python",
   "name": "python",
   "nbconvert_exporter": "python",
   "pygments_lexer": "ipython3",
   "version": "3.7.4"
  }
 },
 "nbformat": 4,
 "nbformat_minor": 4
}
